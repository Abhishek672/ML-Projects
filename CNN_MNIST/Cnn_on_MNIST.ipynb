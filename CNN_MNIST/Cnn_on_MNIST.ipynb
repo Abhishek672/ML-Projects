{
  "nbformat": 4,
  "nbformat_minor": 0,
  "metadata": {
    "colab": {
      "name": "abhisheknegi672@gmail.com_13.ipynb",
      "provenance": [],
      "collapsed_sections": []
    },
    "kernelspec": {
      "display_name": "Python 3",
      "language": "python",
      "name": "python3"
    },
    "language_info": {
      "codemirror_mode": {
        "name": "ipython",
        "version": 3
      },
      "file_extension": ".py",
      "mimetype": "text/x-python",
      "name": "python",
      "nbconvert_exporter": "python",
      "pygments_lexer": "ipython3",
      "version": "3.7.3"
    }
  },
  "cells": [
    {
      "cell_type": "code",
      "metadata": {
        "colab": {
          "base_uri": "https://localhost:8080/",
          "height": 34
        },
        "id": "sosRB--jrRvz",
        "outputId": "7b3f4e54-12dd-4af7-c752-6eea1faa0bb1"
      },
      "source": [
        "from keras.datasets import mnist\n",
        "import numpy as np\n",
        "from keras import backend as k\n",
        "from keras.preprocessing.image import ImageDataGenerator\n",
        "from keras.models import Sequential\n",
        "from keras.layers import Dense,Flatten,Conv2D,MaxPooling2D,AveragePooling2D,Dropout,BatchNormalization\n",
        "from keras.activations import relu,softmax\n",
        "from keras.initializers import he_normal,glorot_normal,random_normal,glorot_uniform\n",
        "from keras.losses import categorical_crossentropy\n",
        "from keras.optimizers import Adadelta,Adam\n",
        "from prettytable import PrettyTable\n",
        "import matplotlib.pyplot as plt\n",
        "import seaborn as sns\n",
        "import warnings\n",
        "warnings.filterwarnings('ignore')\n",
        "from keras.utils import np_utils \n"
      ],
      "execution_count": null,
      "outputs": [
        {
          "output_type": "stream",
          "text": [
            "Using TensorFlow backend.\n"
          ],
          "name": "stderr"
        }
      ]
    },
    {
      "cell_type": "markdown",
      "metadata": {
        "id": "tfvZEOM_v2Oi"
      },
      "source": [
        "### Data overview:"
      ]
    },
    {
      "cell_type": "code",
      "metadata": {
        "colab": {
          "base_uri": "https://localhost:8080/",
          "height": 85
        },
        "id": "rWE8ROOVv1et",
        "outputId": "48d6c5f7-63cd-43eb-9ce4-d5d35cf87523"
      },
      "source": [
        "(X_train,y_train),(X_test,y_test)=mnist.load_data()\n",
        "print(\"train data shape {}\".format(X_train.shape))\n",
        "print(\"test data shape {}\".format(X_test.shape))\n",
        "rows=X_train.shape[1]\n",
        "columns=X_train.shape[2]"
      ],
      "execution_count": null,
      "outputs": [
        {
          "output_type": "stream",
          "text": [
            "Downloading data from https://s3.amazonaws.com/img-datasets/mnist.npz\n",
            "11493376/11490434 [==============================] - 1s 0us/step\n",
            "train data shape (60000, 28, 28)\n",
            "test data shape (10000, 28, 28)\n"
          ],
          "name": "stdout"
        }
      ]
    },
    {
      "cell_type": "markdown",
      "metadata": {
        "id": "j4rBDsONwokb"
      },
      "source": [
        "### Transforming our input data according to the type of bckend we are using"
      ]
    },
    {
      "cell_type": "code",
      "metadata": {
        "id": "QfbkZm-qwwHR"
      },
      "source": [
        "if k.image_data_format()=='channels_first':\n",
        "  X_train=X_train.reshape(X_train.shape[0],1,rows,columns)\n",
        "  X_test=X_test.reshape(X_test.shape[0],1,rows,columns)\n",
        "  input_shape=(1,rows,columns)\n",
        "else :\n",
        "  X_train=X_train.reshape(X_train.shape[0],rows,columns,1)\n",
        "  X_test=X_test.reshape(X_test.shape[0],rows,columns,1)\n",
        "  input_shape=(rows,columns,1)"
      ],
      "execution_count": null,
      "outputs": []
    },
    {
      "cell_type": "markdown",
      "metadata": {
        "id": "8eqs6zqCxn24"
      },
      "source": [
        "### Data normalization and conversion"
      ]
    },
    {
      "cell_type": "code",
      "metadata": {
        "colab": {
          "base_uri": "https://localhost:8080/",
          "height": 85
        },
        "id": "kOQXnRkxxnWM",
        "outputId": "fd48e366-7b33-41d5-d6d0-d0af6cca939d"
      },
      "source": [
        "X_train=X_train.astype('float32')\n",
        "X_test=X_test.astype('float32')\n",
        "\n",
        "X_train=X_train/255\n",
        "X_test=X_test/255\n",
        "\n",
        "#converting the class labels to 10 dimensions \n",
        "y_train=np_utils.to_categorical(y_train,10)\n",
        "y_test=np_utils.to_categorical(y_test,10)\n",
        "\n",
        "print(\"train data shape \",X_train.shape)\n",
        "print(\"test data shape \",X_test.shape)\n",
        "print(\"output train labels shape \",y_train.shape)\n",
        "print(\"output test labels shape \",y_test.shape)"
      ],
      "execution_count": null,
      "outputs": [
        {
          "output_type": "stream",
          "text": [
            "train data shape  (60000, 28, 28, 1)\n",
            "test data shape  (10000, 28, 28, 1)\n",
            "output train labels shape  (60000, 10)\n",
            "output test labels shape  (10000, 10)\n"
          ],
          "name": "stdout"
        }
      ]
    },
    {
      "cell_type": "code",
      "metadata": {
        "id": "Fv85P0H1QTcO"
      },
      "source": [
        "batch_size=100\n",
        "epoches=10\n",
        "num_classes=10"
      ],
      "execution_count": null,
      "outputs": []
    },
    {
      "cell_type": "markdown",
      "metadata": {
        "id": "x-MCLno3Z2A6"
      },
      "source": [
        "\n",
        "\n",
        "---\n",
        "\n"
      ]
    },
    {
      "cell_type": "markdown",
      "metadata": {
        "id": "RppijaG0tzHg"
      },
      "source": [
        "## ASSIGNMENT-14 (CNN ON MNIST DATA)\n",
        "\n",
        "***key points:***\n",
        "\n",
        "*   for each dense layers we have considered batch normalization and dropout rate of 0.4 as our results obtained in assignment-13.\n",
        "\n",
        "*  In this assignment all the observations are done stepwise as:\n",
        "\n",
        "\n",
        "1.   Changing the feature maps.\n",
        "2.   Changing the kernel size.\n",
        "3.   Changing the padding.\n",
        "4.   With maxpooling and without maxpooling.\n",
        "5.   With average pooling and without average pooling.\n",
        "6.   Changing pool_size.\n",
        "7.   Changing the number of dense layers.\n",
        "8.   Affect of batch normalization on convolution layers.\n",
        "9.   Affect of dropout on convolution layers.\n",
        "10.   Affect of data augmentation.\n",
        "\n",
        "*  In each succesive step the best best value we got we incorporate that value for the next steps.\n",
        "\n",
        "* As for 7 convolution layers the computation is more So only 1 example of 7 convolution layers is depicted in the assignment.\n",
        "\n",
        "* As Due to computaion issues the number of epochs are kept 10.\n",
        "\n",
        "* For the pool_strides it has been kept (1,1) as we don't want to reduce our 28x28 matrix to almost 0 dimensions as it is feeded to deeper CNNs.\n",
        "\n"
      ]
    },
    {
      "cell_type": "markdown",
      "metadata": {
        "id": "hFvN0_Jk6QPn"
      },
      "source": [
        "## [0].Some Common Functions"
      ]
    },
    {
      "cell_type": "markdown",
      "metadata": {
        "id": "nKP2RyjP4zqw"
      },
      "source": [
        "**0.1 Plotting the loss  and accuracy graph vs number of epochs**"
      ]
    },
    {
      "cell_type": "code",
      "metadata": {
        "id": "xEqsLEfQZAgp"
      },
      "source": [
        "def plot_graph(history,model):\n",
        "  print(\"test log-loss \",model.evaluate(X_test,y_test,verbose=0)[0])\n",
        "  print(\"test accuracy \",model.evaluate(X_test,y_test,verbose=0)[1])\n",
        "  plt.figure(figsize=(16,6))\n",
        "  for i in range(1,3):\n",
        "    plt.subplot(1,2,i)\n",
        "    plt.grid()\n",
        "    if i==1:\n",
        "      plt.plot(np.arange(1,epoches+1),history.history['loss'],label=\"Train Loss\")\n",
        "      plt.plot(np.arange(1,epoches+1),history.history['val_loss'],label=\"Test Loss\")\n",
        "      plt.ylabel(\"cross entropy loss\")\n",
        "    else:\n",
        "      plt.plot(np.arange(1,epoches+1),history.history['acc'],label=\"Train Accuracy\")\n",
        "      plt.plot(np.arange(1,epoches+1),history.history['val_acc'],label=\"Test Accuracy\")\n",
        "      plt.ylabel(\"Accuracy\")\n",
        "    plt.xlabel(\"number of epochs\")\n",
        "    \n",
        "    plt.legend()\n",
        "  plt.suptitle(\"Error Plots\")\n",
        "  \n",
        "  plt.show()"
      ],
      "execution_count": null,
      "outputs": []
    },
    {
      "cell_type": "markdown",
      "metadata": {
        "id": "0vrmE5o76XCo"
      },
      "source": [
        "**0.2 Misclassified point samples**"
      ]
    },
    {
      "cell_type": "code",
      "metadata": {
        "id": "GCsqeyuO6Zzx"
      },
      "source": [
        "#http://euler.stat.yale.edu/~tba3/stat665/lectures/lec18/notebook18.html\n",
        "def misclassified_pts(model):\n",
        "  print(\"Fraction of missclassified points \\n\",np.round(1-model2.evaluate(X_test,y_test,verbose=0)[1],3))\n",
        "  print(\"Some Samples Of missclassified Points\\n\")\n",
        "  y_pred=model.predict_classes(X_test)\n",
        "\n",
        "  misclf_pts=[im for im in zip(X_test,np.argmax(y_test,axis=1),y_pred) if im[1]!=im[2]]\n",
        "\n",
        "  plt.figure(figsize=(10,6))\n",
        "\n",
        "  for idx,val in enumerate(misclf_pts[:25]):\n",
        "    plt.subplots_adjust(left=0,right=1,top=1,bottom=0)\n",
        "    #as matplotlib gives black for a low pixel value\n",
        "    plt.subplot(5,5,idx+1)\n",
        "    imag=1-val[0].reshape((28,28))\n",
        "    plt.axis('off')\n",
        "    plt.text(0,0,val[1],color='black')\n",
        "    plt.text(0,10,val[2],color='red')\n",
        "    plt.imshow(imag,cmap='gray')"
      ],
      "execution_count": null,
      "outputs": []
    },
    {
      "cell_type": "markdown",
      "metadata": {
        "id": "Uk5fJQVtZHRc"
      },
      "source": [
        "**0.3 Getting images after data augmentation**"
      ]
    },
    {
      "cell_type": "code",
      "metadata": {
        "id": "t3LKra_eZGE8"
      },
      "source": [
        "#https://machinelearningmastery.com/how-to-configure-image-data-augmentation-when-training-deep-learning-neural-networks/\n",
        "#https://www.kaggle.com/gimunu/data-augmentation-with-keras-into-cnn\n",
        "\n",
        "def show_samples_of_augmented_images(datagen):\n",
        "  print(\"Some samples after performing data augmentation\")\n",
        "  \n",
        "  #it will return images in batches of 32\n",
        "  imga,_=next(datagen.flow(X_train,y_train,batch_size=32))\n",
        "  plt.figure(figsize=(10,6))\n",
        "\n",
        "  for i in np.arange(32):\n",
        "    plt.subplots_adjust(left=0,right=1,top=1,bottom=0)\n",
        "    plt.subplot(4,8,i+1)\n",
        "    plt.imshow(1-imga[i].reshape(28,28),cmap='gray')\n",
        "    plt.xticks([],[])\n",
        "    plt.yticks([],[])"
      ],
      "execution_count": null,
      "outputs": []
    },
    {
      "cell_type": "markdown",
      "metadata": {
        "id": "QHUBnzCgZ3p8"
      },
      "source": [
        "\n",
        "\n",
        "---\n",
        "\n"
      ]
    },
    {
      "cell_type": "markdown",
      "metadata": {
        "id": "yRiUv_0KMZQA"
      },
      "source": [
        "## [1] Common Function For creating model:"
      ]
    },
    {
      "cell_type": "code",
      "metadata": {
        "id": "UMo8Q26sMhQd"
      },
      "source": [
        "def create_model(nu_conv_layers,kernel_size,kernel_strides,padding,feature_maps,augmentation_done,max_pooling,avg_pooling,pool_size,pool_strides,dropout,\n",
        "                 nu_dense_lyrs,size_dense_layers,BN):\n",
        "  model=Sequential()\n",
        "  \n",
        "  \n",
        "  \n",
        "  #defining the initial layer\n",
        "  \n",
        "  model.add(Conv2D(filters=feature_maps[0],activation='relu',kernel_size=kernel_size,strides=kernel_strides,padding=padding,\\\n",
        "                   input_shape=input_shape,kernel_initializer=glorot_uniform()))\n",
        "  if max_pooling[0]:\n",
        "    model.add(MaxPooling2D(pool_size=pool_size,strides=pool_strides[0]))\n",
        "  if avg_pooling[0]:\n",
        "    model.add(AveragePooling2D(pool_size=pool_size,strides=pool_strides[0]))\n",
        "  if BN[0]:\n",
        "    model.add(BatchNormalization())\n",
        "  if dropout[0]:\n",
        "    model.add(Dropout(dropout[1])) \n",
        "  \n",
        "  #creating intermediate layers\n",
        "  \n",
        "  for layer in range(1,nu_conv_layers):\n",
        "      model.add(Conv2D(filters=feature_maps[layer],activation='relu',kernel_size=kernel_size,strides=kernel_strides,\\\n",
        "                       padding=padding,kernel_initializer=glorot_uniform()))\n",
        "      \n",
        "      if max_pooling[layer]:\n",
        "        model.add(MaxPooling2D(pool_size=pool_size,strides=pool_strides[layer]))\n",
        "      if avg_pooling[layer]:\n",
        "        model.add(AveragePooling2D(pool_size=pool_size,strides=pool_strides[layer]))\n",
        "      if BN[layer]:\n",
        "        model.add(BatchNormalization())\n",
        "      if dropout[0]:\n",
        "        model.add(Dropout(dropout[1])) \n",
        "      \n",
        "   \n",
        "  model.add(Flatten())\n",
        "  \n",
        "  #adding the dense layers\n",
        "  for dn_lyr in range(nu_dense_lyrs):\n",
        "    model.add(Dense(size_dense_layers[dn_lyr],activation='relu',kernel_initializer=glorot_uniform()))\n",
        "  #as we know adding batch normalization to dense layers always produce god result so we will use BN + dropout in the dense layers  \n",
        "    \n",
        "    model.add(BatchNormalization())\n",
        "    model.add(Dropout(0.4))\n",
        "    \n",
        "  #adding the final softmax layer\n",
        "  \n",
        "  model.add(Dense(10,activation='softmax'))\n",
        "  \n",
        "  \n",
        "  model.compile(optimizer='Adam',loss='categorical_crossentropy',metrics=['accuracy'])\n",
        "  \n",
        "  #if data augmentation is performed then we are are returning the ImageDataGenerator instance also\n",
        "  #as our data is mnist we will avoid the parameters like horizontal flip ,vertical flip ,rotation of image more than 90 etc.\n",
        "  #We will use the transformation that will not affect our meaning of dataset.\n",
        "  \n",
        "  if augmentation_done :\n",
        "    datagen=ImageDataGenerator(width_shift_range=0.2,height_shift_range=0.2,rotation_range=30,shear_range=12,horizontal_flip=False,vertical_flip=False)\n",
        "\n",
        "    #fiiting our train data to imagedata_augmentor\n",
        "\n",
        "    datagen.fit(X_train,augment=True)\n",
        "    \n",
        "    history=model.fit_generator(datagen.flow(X_train,y_train,batch_size=batch_size),epochs=epoches,\\\n",
        "                                steps_per_epoch=X_train.shape[0]/batch_size,verbose=1,validation_data=(X_test,y_test))\n",
        "    \n",
        "    return history,model,datagen\n",
        "  \n",
        "  else :\n",
        "    history=model.fit(X_train,y_train,verbose=1,epochs=epoches,batch_size=batch_size,validation_data=(X_test,y_test))\n",
        "  \n",
        "    return history,model\n",
        "  "
      ],
      "execution_count": null,
      "outputs": []
    },
    {
      "cell_type": "markdown",
      "metadata": {
        "id": "q6T-DOCYmo7R"
      },
      "source": [
        "## [2] Changing Different Parameters On The MNIST Dataset\n",
        "\n",
        "---\n",
        "\n",
        "\n",
        "\n"
      ]
    },
    {
      "cell_type": "markdown",
      "metadata": {
        "id": "nLFISQ3-YWgC"
      },
      "source": [
        "**[2.1] affect of changing the feature maps (number of filters)**"
      ]
    },
    {
      "cell_type": "code",
      "metadata": {
        "colab": {
          "base_uri": "https://localhost:8080/",
          "height": 374
        },
        "id": "hSzbFd41cZEI",
        "outputId": "ec48aaf3-d72e-42ba-e025-9c34c129fecf"
      },
      "source": [
        "history51,model51=create_model(nu_conv_layers=2,kernel_size=5,kernel_strides=(2,2),padding='same',feature_maps=[8,16],augmentation_done=False,\n",
        "                               max_pooling=[False]*2,avg_pooling=[False]*2,pool_size=(2,2),pool_strides=[(1,1)]*2,dropout=[False,0.4],\n",
        "                               nu_dense_lyrs=1,size_dense_layers=[128],BN=[True]*2)"
      ],
      "execution_count": null,
      "outputs": [
        {
          "output_type": "stream",
          "text": [
            "Train on 60000 samples, validate on 10000 samples\n",
            "Epoch 1/10\n",
            "60000/60000 [==============================] - 21s 343us/step - loss: 0.2529 - acc: 0.9235 - val_loss: 0.0757 - val_acc: 0.9750\n",
            "Epoch 2/10\n",
            "60000/60000 [==============================] - 19s 319us/step - loss: 0.0881 - acc: 0.9726 - val_loss: 0.0549 - val_acc: 0.9826\n",
            "Epoch 3/10\n",
            "60000/60000 [==============================] - 19s 311us/step - loss: 0.0639 - acc: 0.9800 - val_loss: 0.0444 - val_acc: 0.9844\n",
            "Epoch 4/10\n",
            "60000/60000 [==============================] - 19s 311us/step - loss: 0.0496 - acc: 0.9848 - val_loss: 0.0378 - val_acc: 0.9885\n",
            "Epoch 5/10\n",
            "60000/60000 [==============================] - 19s 309us/step - loss: 0.0436 - acc: 0.9859 - val_loss: 0.0440 - val_acc: 0.9854\n",
            "Epoch 6/10\n",
            "60000/60000 [==============================] - 19s 311us/step - loss: 0.0377 - acc: 0.9880 - val_loss: 0.0382 - val_acc: 0.9880\n",
            "Epoch 7/10\n",
            "60000/60000 [==============================] - 19s 311us/step - loss: 0.0307 - acc: 0.9903 - val_loss: 0.0365 - val_acc: 0.9876\n",
            "Epoch 8/10\n",
            "60000/60000 [==============================] - 19s 311us/step - loss: 0.0264 - acc: 0.9911 - val_loss: 0.0327 - val_acc: 0.9887\n",
            "Epoch 9/10\n",
            "60000/60000 [==============================] - 19s 314us/step - loss: 0.0258 - acc: 0.9913 - val_loss: 0.0390 - val_acc: 0.9876\n",
            "Epoch 10/10\n",
            "60000/60000 [==============================] - 19s 310us/step - loss: 0.0244 - acc: 0.9919 - val_loss: 0.0383 - val_acc: 0.9884\n"
          ],
          "name": "stdout"
        }
      ]
    },
    {
      "cell_type": "code",
      "metadata": {
        "colab": {
          "base_uri": "https://localhost:8080/",
          "height": 374
        },
        "id": "2CNlfLs6pNgz",
        "outputId": "4ce6907e-56c6-4e65-aaba-003877fef544"
      },
      "source": [
        "history52,model52=create_model(nu_conv_layers=2,kernel_size=5,kernel_strides=(2,2),padding='same',feature_maps=[2,2],augmentation_done=False,\n",
        "                               max_pooling=[False]*2,avg_pooling=[False]*2,pool_size=(2,2),pool_strides=[(1,1)]*2,dropout=[False,0.4],nu_dense_lyrs=1,\n",
        "                               size_dense_layers=[128],BN=[False]*2)"
      ],
      "execution_count": null,
      "outputs": [
        {
          "output_type": "stream",
          "text": [
            "Train on 60000 samples, validate on 10000 samples\n",
            "Epoch 1/10\n",
            "60000/60000 [==============================] - 12s 200us/step - loss: 0.5811 - acc: 0.8188 - val_loss: 0.1767 - val_acc: 0.9446\n",
            "Epoch 2/10\n",
            "60000/60000 [==============================] - 11s 180us/step - loss: 0.2042 - acc: 0.9373 - val_loss: 0.1180 - val_acc: 0.9625\n",
            "Epoch 3/10\n",
            "60000/60000 [==============================] - 11s 182us/step - loss: 0.1589 - acc: 0.9517 - val_loss: 0.1011 - val_acc: 0.9683\n",
            "Epoch 4/10\n",
            "60000/60000 [==============================] - 11s 180us/step - loss: 0.1379 - acc: 0.9583 - val_loss: 0.0931 - val_acc: 0.9686\n",
            "Epoch 5/10\n",
            "60000/60000 [==============================] - 11s 181us/step - loss: 0.1291 - acc: 0.9601 - val_loss: 0.0900 - val_acc: 0.9718\n",
            "Epoch 6/10\n",
            "60000/60000 [==============================] - 11s 180us/step - loss: 0.1169 - acc: 0.9642 - val_loss: 0.0863 - val_acc: 0.9710\n",
            "Epoch 7/10\n",
            "60000/60000 [==============================] - 12s 202us/step - loss: 0.1125 - acc: 0.9657 - val_loss: 0.0902 - val_acc: 0.9702\n",
            "Epoch 8/10\n",
            "60000/60000 [==============================] - 11s 180us/step - loss: 0.1080 - acc: 0.9667 - val_loss: 0.0765 - val_acc: 0.9750\n",
            "Epoch 9/10\n",
            "60000/60000 [==============================] - 11s 181us/step - loss: 0.1012 - acc: 0.9693 - val_loss: 0.0720 - val_acc: 0.9774\n",
            "Epoch 10/10\n",
            "60000/60000 [==============================] - 11s 178us/step - loss: 0.1001 - acc: 0.9691 - val_loss: 0.0678 - val_acc: 0.9774\n"
          ],
          "name": "stdout"
        }
      ]
    },
    {
      "cell_type": "code",
      "metadata": {
        "colab": {
          "base_uri": "https://localhost:8080/",
          "height": 374
        },
        "id": "g9Br_OzppjHA",
        "outputId": "d1305cd0-b2fc-4a8e-de40-d1f5eb69a574"
      },
      "source": [
        "history53,model53=create_model(nu_conv_layers=3,kernel_size=5,kernel_strides=(1,1),padding='same',feature_maps=[8,16,32],augmentation_done=False,\n",
        "                               max_pooling=[False]*3,avg_pooling=[False]*3,pool_size=(2,2),pool_strides=[(1,1)]*3,dropout=[False,0.4],nu_dense_lyrs=1,\n",
        "                               size_dense_layers=[128],BN=[False]*3)"
      ],
      "execution_count": null,
      "outputs": [
        {
          "output_type": "stream",
          "text": [
            "Train on 60000 samples, validate on 10000 samples\n",
            "Epoch 1/10\n",
            "60000/60000 [==============================] - 267s 4ms/step - loss: 0.1223 - acc: 0.9638 - val_loss: 0.0543 - val_acc: 0.9831\n",
            "Epoch 2/10\n",
            "60000/60000 [==============================] - 268s 4ms/step - loss: 0.0466 - acc: 0.9862 - val_loss: 0.0365 - val_acc: 0.9878\n",
            "Epoch 3/10\n",
            "60000/60000 [==============================] - 267s 4ms/step - loss: 0.0324 - acc: 0.9901 - val_loss: 0.0280 - val_acc: 0.9904\n",
            "Epoch 4/10\n",
            "60000/60000 [==============================] - 266s 4ms/step - loss: 0.0243 - acc: 0.9921 - val_loss: 0.0297 - val_acc: 0.9899\n",
            "Epoch 5/10\n",
            "60000/60000 [==============================] - 265s 4ms/step - loss: 0.0180 - acc: 0.9944 - val_loss: 0.0474 - val_acc: 0.9860\n",
            "Epoch 6/10\n",
            "60000/60000 [==============================] - 266s 4ms/step - loss: 0.0150 - acc: 0.9951 - val_loss: 0.0381 - val_acc: 0.9877\n",
            "Epoch 7/10\n",
            "60000/60000 [==============================] - 266s 4ms/step - loss: 0.0128 - acc: 0.9960 - val_loss: 0.0309 - val_acc: 0.9910\n",
            "Epoch 8/10\n",
            "60000/60000 [==============================] - 266s 4ms/step - loss: 0.0107 - acc: 0.9966 - val_loss: 0.0304 - val_acc: 0.9912\n",
            "Epoch 9/10\n",
            "60000/60000 [==============================] - 265s 4ms/step - loss: 0.0102 - acc: 0.9967 - val_loss: 0.0299 - val_acc: 0.9909\n",
            "Epoch 10/10\n",
            "60000/60000 [==============================] - 263s 4ms/step - loss: 0.0097 - acc: 0.9969 - val_loss: 0.0313 - val_acc: 0.9912\n"
          ],
          "name": "stdout"
        }
      ]
    },
    {
      "cell_type": "code",
      "metadata": {
        "colab": {
          "base_uri": "https://localhost:8080/",
          "height": 374
        },
        "id": "ZCR_g-OfpvRt",
        "outputId": "a9afd5c5-0b05-4cc8-8a4e-a1572eaf3fb9"
      },
      "source": [
        "history54,model54=create_model(nu_conv_layers=3,kernel_size=5,kernel_strides=(2,2),padding='same',feature_maps=[4,4,4],augmentation_done=False,\n",
        "                               max_pooling=[False]*3,avg_pooling=[False]*3,pool_size=(2,2),pool_strides=[(1,1)]*3,dropout=[False,0.4],nu_dense_lyrs=1,\n",
        "                               size_dense_layers=[128],BN=[False]*3)"
      ],
      "execution_count": null,
      "outputs": [
        {
          "output_type": "stream",
          "text": [
            "Train on 60000 samples, validate on 10000 samples\n",
            "Epoch 1/10\n",
            "60000/60000 [==============================] - 13s 220us/step - loss: 0.5130 - acc: 0.8362 - val_loss: 0.1787 - val_acc: 0.9418\n",
            "Epoch 2/10\n",
            "60000/60000 [==============================] - 12s 199us/step - loss: 0.1973 - acc: 0.9404 - val_loss: 0.1120 - val_acc: 0.9666\n",
            "Epoch 3/10\n",
            "60000/60000 [==============================] - 12s 199us/step - loss: 0.1444 - acc: 0.9557 - val_loss: 0.1061 - val_acc: 0.9659\n",
            "Epoch 4/10\n",
            "60000/60000 [==============================] - 12s 198us/step - loss: 0.1206 - acc: 0.9636 - val_loss: 0.0794 - val_acc: 0.9736\n",
            "Epoch 5/10\n",
            "60000/60000 [==============================] - 12s 200us/step - loss: 0.1091 - acc: 0.9667 - val_loss: 0.0750 - val_acc: 0.9764\n",
            "Epoch 6/10\n",
            "60000/60000 [==============================] - 12s 202us/step - loss: 0.0990 - acc: 0.9694 - val_loss: 0.0751 - val_acc: 0.9760\n",
            "Epoch 7/10\n",
            "60000/60000 [==============================] - 12s 199us/step - loss: 0.0914 - acc: 0.9719 - val_loss: 0.0778 - val_acc: 0.9745\n",
            "Epoch 8/10\n",
            "60000/60000 [==============================] - 12s 201us/step - loss: 0.0857 - acc: 0.9734 - val_loss: 0.0654 - val_acc: 0.9794\n",
            "Epoch 9/10\n",
            "60000/60000 [==============================] - 12s 202us/step - loss: 0.0831 - acc: 0.9744 - val_loss: 0.0583 - val_acc: 0.9823\n",
            "Epoch 10/10\n",
            "60000/60000 [==============================] - 12s 201us/step - loss: 0.0770 - acc: 0.9757 - val_loss: 0.0602 - val_acc: 0.9805\n"
          ],
          "name": "stdout"
        }
      ]
    },
    {
      "cell_type": "markdown",
      "metadata": {
        "id": "FfglXQfcNRpw"
      },
      "source": [
        "**[2.1.1] Effect Of Using Different Number Of Kernels**"
      ]
    },
    {
      "cell_type": "code",
      "metadata": {
        "colab": {
          "base_uri": "https://localhost:8080/",
          "height": 170
        },
        "id": "aqIx8IWDNRCf",
        "outputId": "5e76046b-8cd5-4abc-d1c4-7ad1d8ed2464"
      },
      "source": [
        "pt_fm=PrettyTable()\n",
        "pt_fm.field_names=[\"conv2D layers\",\"nu_filters\",\"train loss\",\"test loss\",\"test accuracy\"]\n",
        "pt_fm.add_row([2,\"8 || 16\",np.round(history51.history['loss'][9],3),\n",
        "               np.round(model51.evaluate(X_test,y_test,verbose=0)[0],3),np.round(model51.evaluate(X_test,y_test,verbose=0)[1],3)])\n",
        "               \n",
        "pt_fm.add_row([2,\"2 ||2\",np.round(history52.history['loss'][9],3),\n",
        "               np.round(model52.evaluate(X_test,y_test,verbose=0)[0],3),np.round(model52.evaluate(X_test,y_test,verbose=0)[1],3)])\n",
        "               \n",
        "pt_fm.add_row([3,\"8||16||32\",np.round(history53.history['loss'][9],3),\n",
        "               np.round(model53.evaluate(X_test,y_test,verbose=0)[0],3),np.round(model53.evaluate(X_test,y_test,verbose=0)[1],3)])\n",
        "               \n",
        "pt_fm.add_row([3,\"4||4||4\",np.round(history54.history['loss'][9],3),\n",
        "               np.round(model54.evaluate(X_test,y_test,verbose=0)[0],3),np.round(model54.evaluate(X_test,y_test,verbose=0)[1],3)])\n",
        "print(\"effect of number of filters on cnn performance keeping other parameters same\")\n",
        "print(pt_fm)\n"
      ],
      "execution_count": null,
      "outputs": [
        {
          "output_type": "stream",
          "text": [
            "effect of number of filters on cnn performance keeping other parameters same\n",
            "+---------------+------------+------------+-----------+---------------+\n",
            "| conv2D layers | nu_filters | train loss | test loss | test accuracy |\n",
            "+---------------+------------+------------+-----------+---------------+\n",
            "|       2       |  8 || 16   |   0.024    |   0.038   |     0.988     |\n",
            "|       2       |   2 ||2    |    0.1     |   0.068   |     0.977     |\n",
            "|       3       | 8||16||32  |    0.01    |   0.031   |     0.991     |\n",
            "|       3       |  4||4||4   |   0.077    |    0.06   |      0.98     |\n",
            "+---------------+------------+------------+-----------+---------------+\n"
          ],
          "name": "stdout"
        }
      ]
    },
    {
      "cell_type": "markdown",
      "metadata": {
        "id": "H1dF-OF-cxZZ"
      },
      "source": [
        "***CONCLUSIONS***\n",
        "\n",
        "\n",
        "*   The number of feature maps should considerable increase for later layers as initial layers are just to detect edges and later layers are used to detect the  little details from an image.So the more number of feature maps we have the more details we have.\n",
        "\n",
        "\n",
        "---\n",
        "\n",
        "\n",
        "\n",
        "\n"
      ]
    },
    {
      "cell_type": "markdown",
      "metadata": {
        "id": "9Yu67RNbYhwc"
      },
      "source": [
        "**[3.2] affect of the kernel_size**"
      ]
    },
    {
      "cell_type": "code",
      "metadata": {
        "id": "3RZf2ilnx4Kj"
      },
      "source": [
        "#(7,7)\n",
        "history55,model55=create_model(nu_conv_layers=3,kernel_size=7,kernel_strides=(1,1),padding='valid',feature_maps=[8,16,32],augmentation_done=False,\n",
        "                               max_pooling=[False]*3,avg_pooling=[False]*3,pool_size=(2,2),pool_strides=[(1,1)]*3,dropout=[False,0.4],nu_dense_lyrs=1,\n",
        "                               size_dense_layers=[128],BN=[False]*3)"
      ],
      "execution_count": null,
      "outputs": []
    },
    {
      "cell_type": "code",
      "metadata": {
        "colab": {
          "base_uri": "https://localhost:8080/",
          "height": 374
        },
        "id": "tObAMpYayOS8",
        "outputId": "c8ee45e6-a97d-4e6d-9846-7ada96a2ec63"
      },
      "source": [
        "#(3,3)\n",
        "history56,model56=create_model(nu_conv_layers=3,kernel_size=3,kernel_strides=(1,1),padding='valid',feature_maps=[8,16,32],augmentation_done=False,\n",
        "                               max_pooling=[False]*3,avg_pooling=[False]*3,pool_size=(2,2),pool_strides=[(1,1)]*3,dropout=[False,0.4],nu_dense_lyrs=1,\n",
        "                               size_dense_layers=[128],BN=[False]*3)"
      ],
      "execution_count": null,
      "outputs": [
        {
          "output_type": "stream",
          "text": [
            "Train on 60000 samples, validate on 10000 samples\n",
            "Epoch 1/10\n",
            "60000/60000 [==============================] - 96s 2ms/step - loss: 0.1411 - acc: 0.9580 - val_loss: 0.1191 - val_acc: 0.9657\n",
            "Epoch 2/10\n",
            "60000/60000 [==============================] - 93s 2ms/step - loss: 0.0564 - acc: 0.9831 - val_loss: 0.0487 - val_acc: 0.9836\n",
            "Epoch 3/10\n",
            "60000/60000 [==============================] - 92s 2ms/step - loss: 0.0410 - acc: 0.9877 - val_loss: 0.0466 - val_acc: 0.9845\n",
            "Epoch 4/10\n",
            "60000/60000 [==============================] - 92s 2ms/step - loss: 0.0308 - acc: 0.9903 - val_loss: 0.0533 - val_acc: 0.9844\n",
            "Epoch 5/10\n",
            "60000/60000 [==============================] - 91s 2ms/step - loss: 0.0242 - acc: 0.9923 - val_loss: 0.0320 - val_acc: 0.9892\n",
            "Epoch 6/10\n",
            "60000/60000 [==============================] - 90s 2ms/step - loss: 0.0182 - acc: 0.9939 - val_loss: 0.0342 - val_acc: 0.9890\n",
            "Epoch 7/10\n",
            "60000/60000 [==============================] - 91s 2ms/step - loss: 0.0160 - acc: 0.9949 - val_loss: 0.0365 - val_acc: 0.9888\n",
            "Epoch 8/10\n",
            "60000/60000 [==============================] - 91s 2ms/step - loss: 0.0109 - acc: 0.9965 - val_loss: 0.0347 - val_acc: 0.9891\n",
            "Epoch 9/10\n",
            "60000/60000 [==============================] - 91s 2ms/step - loss: 0.0126 - acc: 0.9954 - val_loss: 0.0384 - val_acc: 0.9880\n",
            "Epoch 10/10\n",
            "60000/60000 [==============================] - 91s 2ms/step - loss: 0.0094 - acc: 0.9969 - val_loss: 0.0407 - val_acc: 0.9894\n"
          ],
          "name": "stdout"
        }
      ]
    },
    {
      "cell_type": "code",
      "metadata": {
        "colab": {
          "base_uri": "https://localhost:8080/",
          "height": 374
        },
        "id": "X3rmrLGhx-gG",
        "outputId": "d56c8653-7c6a-4604-b86c-7eff26e4999c"
      },
      "source": [
        "history539,model539=create_model(nu_conv_layers=3,kernel_size=5,kernel_strides=(1,1),padding='valid',feature_maps=[8,16,32],augmentation_done=False,\n",
        "                               max_pooling=[False]*3,avg_pooling=[False]*3,pool_size=(2,2),pool_strides=[(1,1)]*3,dropout=[False,0.4],nu_dense_lyrs=1,\n",
        "                               size_dense_layers=[128],BN=[False]*3)"
      ],
      "execution_count": null,
      "outputs": [
        {
          "output_type": "stream",
          "text": [
            "Train on 60000 samples, validate on 10000 samples\n",
            "Epoch 1/10\n",
            "60000/60000 [==============================] - 105s 2ms/step - loss: 0.1305 - acc: 0.9616 - val_loss: 0.0450 - val_acc: 0.9851\n",
            "Epoch 2/10\n",
            "60000/60000 [==============================] - 104s 2ms/step - loss: 0.0505 - acc: 0.9851 - val_loss: 0.0698 - val_acc: 0.9771\n",
            "Epoch 3/10\n",
            "60000/60000 [==============================] - 104s 2ms/step - loss: 0.0372 - acc: 0.9885 - val_loss: 0.0352 - val_acc: 0.9869\n",
            "Epoch 4/10\n",
            "60000/60000 [==============================] - 103s 2ms/step - loss: 0.0285 - acc: 0.9915 - val_loss: 0.0322 - val_acc: 0.9897\n",
            "Epoch 5/10\n",
            "60000/60000 [==============================] - 103s 2ms/step - loss: 0.0237 - acc: 0.9929 - val_loss: 0.0359 - val_acc: 0.9894\n",
            "Epoch 6/10\n",
            "60000/60000 [==============================] - 102s 2ms/step - loss: 0.0179 - acc: 0.9947 - val_loss: 0.0286 - val_acc: 0.9906\n",
            "Epoch 7/10\n",
            "60000/60000 [==============================] - 102s 2ms/step - loss: 0.0156 - acc: 0.9954 - val_loss: 0.0342 - val_acc: 0.9901\n",
            "Epoch 8/10\n",
            "60000/60000 [==============================] - 102s 2ms/step - loss: 0.0145 - acc: 0.9951 - val_loss: 0.0321 - val_acc: 0.9891\n",
            "Epoch 9/10\n",
            "60000/60000 [==============================] - 100s 2ms/step - loss: 0.0127 - acc: 0.9959 - val_loss: 0.0324 - val_acc: 0.9907\n",
            "Epoch 10/10\n",
            "60000/60000 [==============================] - 100s 2ms/step - loss: 0.0130 - acc: 0.9958 - val_loss: 0.0283 - val_acc: 0.9916\n"
          ],
          "name": "stdout"
        }
      ]
    },
    {
      "cell_type": "markdown",
      "metadata": {
        "id": "3ZH3xY-YLLp4"
      },
      "source": [
        "**[3.2.1] comparing  on kernel sizes**"
      ]
    },
    {
      "cell_type": "code",
      "metadata": {
        "colab": {
          "base_uri": "https://localhost:8080/",
          "height": 153
        },
        "id": "df-KzClNLQSd",
        "outputId": "05a383f3-ec23-45f7-fa1f-5bd7dbee4994"
      },
      "source": [
        "pt_ks=PrettyTable()\n",
        "pt_ks.field_names=[\"conv_layers\",\"kernels size used\",\"padding\",\"train loss\",\"test loss\",\"test accuracy\"]\n",
        "\n",
        "pt_ks.add_row([3,(3,3),'valid',np.round(history56.history['loss'][9],3),\n",
        "               np.round(model56.evaluate(X_test,y_test,verbose=0)[0],3),np.round(model56.evaluate(X_test,y_test,verbose=0)[1],3)])\n",
        "\n",
        "pt_ks.add_row([3,(5,5),'valid',np.round(history539.history['loss'][9],3),\n",
        "               np.round(model539.evaluate(X_test,y_test,verbose=0)[0],3),np.round(model539.evaluate(X_test,y_test,verbose=0)[1],3)])\n",
        "\n",
        "pt_ks.add_row([3,(7,7),'valid',np.round(history55.history['loss'][9],3),\n",
        "               np.round(model55.evaluate(X_test,y_test,verbose=0)[0],3),np.round(model55.evaluate(X_test,y_test,verbose=0)[1],3)])\n",
        "\n",
        "print(\"Affect Of Kernel Sizes On Test loss And Accuracy keeping other parameters same\")\n",
        "print(pt_ks)\n"
      ],
      "execution_count": null,
      "outputs": [
        {
          "output_type": "stream",
          "text": [
            "Affect Of Kernel Sizes On Test loss And Accuracy keeping other parameters same\n",
            "+-------------+-------------------+---------+------------+-----------+---------------+\n",
            "| conv_layers | kernels size used | padding | train loss | test loss | test accuracy |\n",
            "+-------------+-------------------+---------+------------+-----------+---------------+\n",
            "|      3      |       (3, 3)      |  valid  |   0.009    |   0.041   |     0.989     |\n",
            "|      3      |       (5, 5)      |  valid  |   0.013    |   0.028   |     0.992     |\n",
            "|      3      |       (7, 7)      |  valid  |   0.021    |   0.029   |     0.991     |\n",
            "+-------------+-------------------+---------+------------+-----------+---------------+\n"
          ],
          "name": "stdout"
        }
      ]
    },
    {
      "cell_type": "markdown",
      "metadata": {
        "id": "tZnaLRF49poi"
      },
      "source": [
        "***CONCLUSIONS***\n",
        "\n",
        "\n",
        "*  kernel should be kept of size medium (5,5).As having too small kernels will include extra informations/pixels and large kernels will skip the important pixel/edge features.\n",
        "\n",
        "\n",
        "---\n",
        "\n",
        "\n",
        "\n",
        "\n"
      ]
    },
    {
      "cell_type": "markdown",
      "metadata": {
        "id": "qTGkajbMN__u"
      },
      "source": [
        "**[3.3] affect of padding**"
      ]
    },
    {
      "cell_type": "code",
      "metadata": {
        "colab": {
          "base_uri": "https://localhost:8080/",
          "height": 374
        },
        "id": "bno3k8eqODX7",
        "outputId": "08e0f8e6-5dac-4214-a3e9-6bffdfcc3f45"
      },
      "source": [
        "#here we have to keep in mind that we should carefully choose the number of layers and kernel size such that our original dimensions do not vanish\n",
        "history561,model561=create_model(nu_conv_layers=3,kernel_size=5,kernel_strides=(1,1),padding='valid',feature_maps=[8,16,32],augmentation_done=False,\n",
        "                               max_pooling=[False]*3,avg_pooling=[False]*3,pool_size=(2,2),pool_strides=[(1,1)]*3,dropout=[False,0.4],nu_dense_lyrs=1,\n",
        "                               size_dense_layers=[128],BN=[False]*3)\n"
      ],
      "execution_count": null,
      "outputs": [
        {
          "output_type": "stream",
          "text": [
            "Train on 60000 samples, validate on 10000 samples\n",
            "Epoch 1/10\n",
            "60000/60000 [==============================] - 103s 2ms/step - loss: 0.1253 - acc: 0.9636 - val_loss: 0.0408 - val_acc: 0.9875\n",
            "Epoch 2/10\n",
            "60000/60000 [==============================] - 102s 2ms/step - loss: 0.0472 - acc: 0.9860 - val_loss: 0.0281 - val_acc: 0.9907\n",
            "Epoch 3/10\n",
            "60000/60000 [==============================] - 102s 2ms/step - loss: 0.0362 - acc: 0.9889 - val_loss: 0.0413 - val_acc: 0.9864\n",
            "Epoch 4/10\n",
            "60000/60000 [==============================] - 102s 2ms/step - loss: 0.0262 - acc: 0.9920 - val_loss: 0.0322 - val_acc: 0.9896\n",
            "Epoch 5/10\n",
            "60000/60000 [==============================] - 102s 2ms/step - loss: 0.0228 - acc: 0.9929 - val_loss: 0.0300 - val_acc: 0.9906\n",
            "Epoch 6/10\n",
            "60000/60000 [==============================] - 102s 2ms/step - loss: 0.0185 - acc: 0.9943 - val_loss: 0.0342 - val_acc: 0.9889\n",
            "Epoch 7/10\n",
            "60000/60000 [==============================] - 105s 2ms/step - loss: 0.0161 - acc: 0.9950 - val_loss: 0.0296 - val_acc: 0.9918\n",
            "Epoch 8/10\n",
            "60000/60000 [==============================] - 105s 2ms/step - loss: 0.0144 - acc: 0.9954 - val_loss: 0.0287 - val_acc: 0.9915\n",
            "Epoch 9/10\n",
            "60000/60000 [==============================] - 105s 2ms/step - loss: 0.0114 - acc: 0.9962 - val_loss: 0.0367 - val_acc: 0.9901\n",
            "Epoch 10/10\n",
            "60000/60000 [==============================] - 105s 2ms/step - loss: 0.0110 - acc: 0.9961 - val_loss: 0.0316 - val_acc: 0.9901\n"
          ],
          "name": "stdout"
        }
      ]
    },
    {
      "cell_type": "markdown",
      "metadata": {
        "id": "OXY77PzsQvFT"
      },
      "source": [
        "**[3.3.1] summarizing the result**"
      ]
    },
    {
      "cell_type": "code",
      "metadata": {
        "colab": {
          "base_uri": "https://localhost:8080/",
          "height": 136
        },
        "id": "gOkm2ToiQuXQ",
        "outputId": "9d3d585d-af17-45d3-b79c-78efbf766a06"
      },
      "source": [
        "pt_pd=PrettyTable()\n",
        "pt_pd.field_names=[\"conv_layers\",\"kernel size\",\"padding\",\"train loss\",\"test loss\",\"test accuracy\"]\n",
        "pt_pd.add_row([3,(5,5),'valid',np.round(history561.history['loss'][9],3),\n",
        "               np.round(model561.evaluate(X_test,y_test,verbose=0)[0],3),np.round(model561.evaluate(X_test,y_test,verbose=0)[1],3)])\n",
        "\n",
        "pt_pd.add_row([3,(5,5),'same',np.round(history53.history['loss'][9],3),\n",
        "               np.round(model53.evaluate(X_test,y_test,verbose=0)[0],3),np.round(model53.evaluate(X_test,y_test,verbose=0)[1],3)])\n",
        "print(\"Affect Of padding On Test loss And Accuracy keeping other parameters same\")\n",
        "print(pt_pd)"
      ],
      "execution_count": null,
      "outputs": [
        {
          "output_type": "stream",
          "text": [
            "Affect Of padding On Test loss And Accuracy keeping other parameters same\n",
            "+-------------+-------------+---------+------------+-----------+---------------+\n",
            "| conv_layers | kernel size | padding | train loss | test loss | test accuracy |\n",
            "+-------------+-------------+---------+------------+-----------+---------------+\n",
            "|      3      |    (5, 5)   |  valid  |   0.011    |   0.032   |      0.99     |\n",
            "|      3      |    (5, 5)   |   same  |    0.01    |   0.031   |     0.991     |\n",
            "+-------------+-------------+---------+------------+-----------+---------------+\n"
          ],
          "name": "stdout"
        }
      ]
    },
    {
      "cell_type": "markdown",
      "metadata": {
        "id": "53WLJLrE_A5x"
      },
      "source": [
        "***CONCLUSION***\n",
        "\n",
        "\n",
        "*   padding='valid' is better option in place of 'same' untill and unless our original matrix do not vanishes before last layer.\n",
        "* padding='same' is used commonly if somehow due to succesive convolution and maxpool operations the matrix vanishes.\n",
        "\n",
        "\n",
        "\n",
        "---\n",
        "\n",
        "\n"
      ]
    },
    {
      "cell_type": "markdown",
      "metadata": {
        "id": "nasmmV2qYu1t"
      },
      "source": [
        "**[3.4] affect of adding maxpooling layer**"
      ]
    },
    {
      "cell_type": "code",
      "metadata": {
        "id": "4dRhKA0nyryh"
      },
      "source": [
        "#adding maxpool everywhere\n",
        "history57,model57=create_model(nu_conv_layers=3,kernel_size=5,kernel_strides=(1,1),padding='valid',feature_maps=[8,16,32],augmentation_done=False,\n",
        "                               max_pooling=[True]*3,avg_pooling=[False]*3,pool_size=(2,2),pool_strides=[(1,1)]*3,dropout=[False,0.4],nu_dense_lyrs=1,\n",
        "                               size_dense_layers=[128],BN=[False]*3)"
      ],
      "execution_count": null,
      "outputs": []
    },
    {
      "cell_type": "code",
      "metadata": {
        "colab": {
          "base_uri": "https://localhost:8080/",
          "height": 374
        },
        "id": "-V_BBSc0SxYb",
        "outputId": "971785c6-5edf-4d0d-fb43-c6421b43f596"
      },
      "source": [
        "#without maxpooling on 5 convolution layer architecture\n",
        "history58,model58=create_model(nu_conv_layers=5,kernel_size=5,kernel_strides=(1,1),padding='valid',feature_maps=[8,16,24,32,40],augmentation_done=False,\n",
        "                               max_pooling=[False]*5,avg_pooling=[False]*5,pool_size=(2,2),pool_strides=[(1,1)]*5,dropout=[False,0.4],nu_dense_lyrs=1,\n",
        "                               size_dense_layers=[128],BN=[False]*5)"
      ],
      "execution_count": null,
      "outputs": [
        {
          "output_type": "stream",
          "text": [
            "Train on 60000 samples, validate on 10000 samples\n",
            "Epoch 1/10\n",
            "60000/60000 [==============================] - 154s 3ms/step - loss: 0.1676 - acc: 0.9504 - val_loss: 0.0727 - val_acc: 0.9768\n",
            "Epoch 2/10\n",
            "60000/60000 [==============================] - 151s 3ms/step - loss: 0.0599 - acc: 0.9819 - val_loss: 0.0374 - val_acc: 0.9879\n",
            "Epoch 3/10\n",
            "60000/60000 [==============================] - 151s 3ms/step - loss: 0.0484 - acc: 0.9857 - val_loss: 0.0674 - val_acc: 0.9784\n",
            "Epoch 4/10\n",
            "60000/60000 [==============================] - 151s 3ms/step - loss: 0.0381 - acc: 0.9883 - val_loss: 0.0413 - val_acc: 0.9877\n",
            "Epoch 5/10\n",
            "60000/60000 [==============================] - 151s 3ms/step - loss: 0.0358 - acc: 0.9892 - val_loss: 0.0349 - val_acc: 0.9894\n",
            "Epoch 6/10\n",
            "60000/60000 [==============================] - 152s 3ms/step - loss: 0.0299 - acc: 0.9912 - val_loss: 0.0259 - val_acc: 0.9914\n",
            "Epoch 7/10\n",
            "60000/60000 [==============================] - 154s 3ms/step - loss: 0.0268 - acc: 0.9918 - val_loss: 0.0264 - val_acc: 0.9925\n",
            "Epoch 8/10\n",
            "60000/60000 [==============================] - 154s 3ms/step - loss: 0.0252 - acc: 0.9921 - val_loss: 0.0356 - val_acc: 0.9893\n",
            "Epoch 9/10\n",
            "60000/60000 [==============================] - 154s 3ms/step - loss: 0.0211 - acc: 0.9936 - val_loss: 0.0307 - val_acc: 0.9905\n",
            "Epoch 10/10\n",
            "60000/60000 [==============================] - 154s 3ms/step - loss: 0.0202 - acc: 0.9940 - val_loss: 0.0286 - val_acc: 0.9917\n"
          ],
          "name": "stdout"
        }
      ]
    },
    {
      "cell_type": "code",
      "metadata": {
        "colab": {
          "base_uri": "https://localhost:8080/",
          "height": 374
        },
        "id": "o5vA-SpoSyg7",
        "outputId": "1423ed71-cebb-42b8-835e-41418a97f203"
      },
      "source": [
        "#with maxpooling on 5 conv layer(EVERYWHERE)\n",
        "history59,model59=create_model(nu_conv_layers=5,kernel_size=5,kernel_strides=(1,1),padding='valid',feature_maps=[8,16,24,32,40],augmentation_done=False,\n",
        "                               max_pooling=[True]*5,avg_pooling=[False]*5,pool_size=(2,2),pool_strides=[(1,1)]*5,dropout=[False,0.4],nu_dense_lyrs=1,\n",
        "                               size_dense_layers=[128],BN=[False]*5)"
      ],
      "execution_count": null,
      "outputs": [
        {
          "output_type": "stream",
          "text": [
            "Train on 60000 samples, validate on 10000 samples\n",
            "Epoch 1/10\n",
            "60000/60000 [==============================] - 125s 2ms/step - loss: 0.2038 - acc: 0.9387 - val_loss: 0.1501 - val_acc: 0.9527\n",
            "Epoch 2/10\n",
            "60000/60000 [==============================] - 122s 2ms/step - loss: 0.0770 - acc: 0.9771 - val_loss: 0.0785 - val_acc: 0.9745\n",
            "Epoch 3/10\n",
            "60000/60000 [==============================] - 121s 2ms/step - loss: 0.0593 - acc: 0.9818 - val_loss: 0.0816 - val_acc: 0.9714\n",
            "Epoch 4/10\n",
            "60000/60000 [==============================] - 119s 2ms/step - loss: 0.0502 - acc: 0.9849 - val_loss: 0.0768 - val_acc: 0.9753\n",
            "Epoch 5/10\n",
            "60000/60000 [==============================] - 119s 2ms/step - loss: 0.0445 - acc: 0.9863 - val_loss: 0.0403 - val_acc: 0.9865\n",
            "Epoch 6/10\n",
            "60000/60000 [==============================] - 120s 2ms/step - loss: 0.0412 - acc: 0.9872 - val_loss: 0.0401 - val_acc: 0.9874\n",
            "Epoch 7/10\n",
            "60000/60000 [==============================] - 121s 2ms/step - loss: 0.0365 - acc: 0.9883 - val_loss: 0.0642 - val_acc: 0.9798\n",
            "Epoch 8/10\n",
            "60000/60000 [==============================] - 121s 2ms/step - loss: 0.0343 - acc: 0.9894 - val_loss: 0.0379 - val_acc: 0.9880\n",
            "Epoch 9/10\n",
            "60000/60000 [==============================] - 121s 2ms/step - loss: 0.0316 - acc: 0.9902 - val_loss: 0.0369 - val_acc: 0.9887\n",
            "Epoch 10/10\n",
            "60000/60000 [==============================] - 121s 2ms/step - loss: 0.0291 - acc: 0.9905 - val_loss: 0.0437 - val_acc: 0.9863\n"
          ],
          "name": "stdout"
        }
      ]
    },
    {
      "cell_type": "code",
      "metadata": {
        "colab": {
          "base_uri": "https://localhost:8080/",
          "height": 374
        },
        "id": "2VIVMe6fS0qX",
        "outputId": "81e6bcac-e2a4-44ae-f7bb-3033193120b1"
      },
      "source": [
        "#with maxpooling on 5 conv layer(INITIAL LAYERS ONLY)\n",
        "history5_1,model5_1=create_model(nu_conv_layers=5,kernel_size=5,kernel_strides=(1,1),padding='valid',feature_maps=[8,16,24,32,40],augmentation_done=False,\n",
        "                               max_pooling=[True,True,True,False,False],avg_pooling=[False]*5,pool_size=(2,2),pool_strides=[(1,1)]*5,\n",
        "                                 dropout=[False,0.4],nu_dense_lyrs=1,size_dense_layers=[128],BN=[False]*5)"
      ],
      "execution_count": null,
      "outputs": [
        {
          "output_type": "stream",
          "text": [
            "Train on 60000 samples, validate on 10000 samples\n",
            "Epoch 1/10\n",
            "60000/60000 [==============================] - 127s 2ms/step - loss: 0.1795 - acc: 0.9461 - val_loss: 0.0847 - val_acc: 0.9752\n",
            "Epoch 2/10\n",
            "60000/60000 [==============================] - 124s 2ms/step - loss: 0.0704 - acc: 0.9789 - val_loss: 0.0615 - val_acc: 0.9811\n",
            "Epoch 3/10\n",
            "60000/60000 [==============================] - 123s 2ms/step - loss: 0.0542 - acc: 0.9842 - val_loss: 0.0436 - val_acc: 0.9865\n",
            "Epoch 4/10\n",
            "60000/60000 [==============================] - 123s 2ms/step - loss: 0.0458 - acc: 0.9862 - val_loss: 0.0470 - val_acc: 0.9854\n",
            "Epoch 5/10\n",
            "60000/60000 [==============================] - 123s 2ms/step - loss: 0.0419 - acc: 0.9878 - val_loss: 0.0529 - val_acc: 0.9842\n",
            "Epoch 6/10\n",
            "60000/60000 [==============================] - 124s 2ms/step - loss: 0.0380 - acc: 0.9883 - val_loss: 0.0302 - val_acc: 0.9914\n",
            "Epoch 7/10\n",
            "60000/60000 [==============================] - 124s 2ms/step - loss: 0.0324 - acc: 0.9899 - val_loss: 0.0288 - val_acc: 0.9920\n",
            "Epoch 8/10\n",
            "60000/60000 [==============================] - 124s 2ms/step - loss: 0.0290 - acc: 0.9907 - val_loss: 0.0320 - val_acc: 0.9903\n",
            "Epoch 9/10\n",
            "60000/60000 [==============================] - 124s 2ms/step - loss: 0.0280 - acc: 0.9912 - val_loss: 0.0292 - val_acc: 0.9909\n",
            "Epoch 10/10\n",
            "60000/60000 [==============================] - 123s 2ms/step - loss: 0.0261 - acc: 0.9921 - val_loss: 0.0380 - val_acc: 0.9888\n"
          ],
          "name": "stdout"
        }
      ]
    },
    {
      "cell_type": "markdown",
      "metadata": {
        "id": "-jrVe47pRk34"
      },
      "source": [
        "**[3.4.1] summarizing results obtained**"
      ]
    },
    {
      "cell_type": "code",
      "metadata": {
        "colab": {
          "base_uri": "https://localhost:8080/",
          "height": 187
        },
        "id": "s2QSoMK9RqLN",
        "outputId": "85ac733b-c80e-41a2-9b30-1470bd9e1397"
      },
      "source": [
        "pt_mp=PrettyTable()\n",
        "pt_mp.field_names=[\"conv2D layers\",\"kernel\",\"padding\",\"max_pooling\",\"train loss\",\"test loss\",\"test accuracy\"]\n",
        "pt_mp.add_row([3,\"(5,5)\",'valid',\"0--0--0\",np.round(history561.history['loss'][9],3),\n",
        "              np.round(model561.evaluate(X_test,y_test,verbose=0)[0],3),np.round(model561.evaluate(X_test,y_test,verbose=0)[1],3)])\n",
        "\n",
        "pt_mp.add_row([3,\"(5,5)\",'valid',\"1--1--1\",np.round(history57.history['loss'][9],3),\n",
        "              np.round(model57.evaluate(X_test,y_test,verbose=0)[0],3),np.round(model57.evaluate(X_test,y_test,verbose=0)[1],3)])\n",
        "\n",
        "pt_mp.add_row([5,\"(5,5)\",'valid',\"0-0-0-0-0\",np.round(history58.history['loss'][9],3),\n",
        "              np.round(model58.evaluate(X_test,y_test,verbose=0)[0],3),np.round(model58.evaluate(X_test,y_test,verbose=0)[1],3)])\n",
        "\n",
        "pt_mp.add_row([5,\"(5,5)\",'valid',\"1-1-1-0-0\",np.round(history5_1.history['loss'][9],3),\n",
        "              np.round(model5_1.evaluate(X_test,y_test,verbose=0)[0],3),np.round(model5_1.evaluate(X_test,y_test,verbose=0)[1],3)])\n",
        "\n",
        "pt_mp.add_row([5,\"(5,5)\",'valid',\"1-1-1-1-1\",np.round(history59.history['loss'][9],3),\n",
        "              np.round(model59.evaluate(X_test,y_test,verbose=0)[0],3),np.round(model59.evaluate(X_test,y_test,verbose=0)[1],3)])\n",
        "\n",
        "print(\"effect of maxpool layer on cnn performance keeping other parameters same\")\n",
        "print(pt_mp)"
      ],
      "execution_count": null,
      "outputs": [
        {
          "output_type": "stream",
          "text": [
            "effect of maxpool layer on cnn performance keeping other parameters same\n",
            "+---------------+--------+---------+-------------+------------+-----------+---------------+\n",
            "| conv2D layers | kernel | padding | max_pooling | train loss | test loss | test accuracy |\n",
            "+---------------+--------+---------+-------------+------------+-----------+---------------+\n",
            "|       3       | (5,5)  |  valid  |   0--0--0   |   0.011    |   0.032   |      0.99     |\n",
            "|       3       | (5,5)  |  valid  |   1--1--1   |   0.019    |   0.022   |     0.992     |\n",
            "|       5       | (5,5)  |  valid  |  0-0-0-0-0  |    0.02    |   0.029   |     0.992     |\n",
            "|       5       | (5,5)  |  valid  |  1-1-1-0-0  |   0.026    |   0.038   |     0.989     |\n",
            "|       5       | (5,5)  |  valid  |  1-1-1-1-1  |   0.029    |   0.044   |     0.986     |\n",
            "+---------------+--------+---------+-------------+------------+-----------+---------------+\n"
          ],
          "name": "stdout"
        }
      ]
    },
    {
      "cell_type": "markdown",
      "metadata": {
        "id": "Y7We8pbAJR8R"
      },
      "source": [
        "***CONCLUSIONS***\n",
        "\n",
        "\n",
        "*   maxpool is used for location invariance of objects in an image.As we have simple mnist data so that maybe the reason maxpool is not working that much good here because all we have is 1 object in given image(i.e the number)\n",
        "\n",
        "\n",
        "\n",
        "---\n",
        "\n",
        "\n"
      ]
    },
    {
      "cell_type": "markdown",
      "metadata": {
        "id": "PDJ9oLwXO_MD"
      },
      "source": [
        "**[3.5] Using Average Pooling**"
      ]
    },
    {
      "cell_type": "code",
      "metadata": {
        "id": "sOx9wpvgPEUU"
      },
      "source": [
        "#with average pooling on 3 layers\n",
        "history5611,model5611=create_model(nu_conv_layers=3,kernel_size=5,kernel_strides=(1,1),padding='valid',feature_maps=[8,16,32],augmentation_done=False,\n",
        "                               max_pooling=[False]*3,avg_pooling=[True]*3,pool_size=(2,2),pool_strides=[(1,1)]*3,dropout=[False,0.4],nu_dense_lyrs=1,\n",
        "                               size_dense_layers=[128],BN=[False]*3)"
      ],
      "execution_count": null,
      "outputs": []
    },
    {
      "cell_type": "code",
      "metadata": {
        "colab": {
          "base_uri": "https://localhost:8080/",
          "height": 374
        },
        "id": "CI_fFAQaQBaV",
        "outputId": "c2804dcb-da11-49fc-d494-4c8fb3aa2c57"
      },
      "source": [
        "#with average pooling on 5 layers\n",
        "history581,model581=create_model(nu_conv_layers=5,kernel_size=5,kernel_strides=(1,1),padding='valid',feature_maps=[8,16,24,32,40],augmentation_done=False,\n",
        "                               max_pooling=[False]*5,avg_pooling=[True]*5,pool_size=(2,2),pool_strides=[(1,1)]*5,dropout=[False,0.4],nu_dense_lyrs=1,\n",
        "                               size_dense_layers=[128],BN=[False]*5)"
      ],
      "execution_count": null,
      "outputs": [
        {
          "output_type": "stream",
          "text": [
            "Train on 60000 samples, validate on 10000 samples\n",
            "Epoch 1/10\n",
            "60000/60000 [==============================] - 117s 2ms/step - loss: 0.2113 - acc: 0.9352 - val_loss: 0.1385 - val_acc: 0.9576\n",
            "Epoch 2/10\n",
            "60000/60000 [==============================] - 115s 2ms/step - loss: 0.0785 - acc: 0.9769 - val_loss: 0.0680 - val_acc: 0.9775\n",
            "Epoch 3/10\n",
            "60000/60000 [==============================] - 113s 2ms/step - loss: 0.0609 - acc: 0.9820 - val_loss: 0.0486 - val_acc: 0.9844\n",
            "Epoch 4/10\n",
            "60000/60000 [==============================] - 112s 2ms/step - loss: 0.0528 - acc: 0.9842 - val_loss: 0.0464 - val_acc: 0.9853\n",
            "Epoch 5/10\n",
            "60000/60000 [==============================] - 112s 2ms/step - loss: 0.0453 - acc: 0.9860 - val_loss: 0.0360 - val_acc: 0.9890\n",
            "Epoch 6/10\n",
            "60000/60000 [==============================] - 115s 2ms/step - loss: 0.0410 - acc: 0.9875 - val_loss: 0.0324 - val_acc: 0.9890\n",
            "Epoch 7/10\n",
            "60000/60000 [==============================] - 114s 2ms/step - loss: 0.0368 - acc: 0.9888 - val_loss: 0.0506 - val_acc: 0.9862\n",
            "Epoch 8/10\n",
            "60000/60000 [==============================] - 114s 2ms/step - loss: 0.0341 - acc: 0.9892 - val_loss: 0.0434 - val_acc: 0.9865\n",
            "Epoch 9/10\n",
            "60000/60000 [==============================] - 114s 2ms/step - loss: 0.0336 - acc: 0.9896 - val_loss: 0.0371 - val_acc: 0.9891\n",
            "Epoch 10/10\n",
            "60000/60000 [==============================] - 114s 2ms/step - loss: 0.0297 - acc: 0.9908 - val_loss: 0.0346 - val_acc: 0.9897\n"
          ],
          "name": "stdout"
        }
      ]
    },
    {
      "cell_type": "markdown",
      "metadata": {
        "id": "DAZ_Ve2RuW7Y"
      },
      "source": [
        "**[3.5.1] Summarizing the results**"
      ]
    },
    {
      "cell_type": "code",
      "metadata": {
        "colab": {
          "base_uri": "https://localhost:8080/",
          "height": 153
        },
        "id": "i7G3zFq0Tdhm",
        "outputId": "5f2a7300-e748-4b98-f9d9-993440f72069"
      },
      "source": [
        "pt_ap=PrettyTable()\n",
        "pt_ap.field_names=[\"conv2D layers\",\"kernel\",\"padding\",\"avg_pooling?\",\"train loss\",\"test loss\",\"test accuracy\"]\n",
        "pt_ap.add_row([3,\"(5,5)\",'valid',\"No\",np.round(history561.history['loss'][9],3),\n",
        "              np.round(model561.evaluate(X_test,y_test,verbose=0)[0],3),np.round(model561.evaluate(X_test,y_test,verbose=0)[1],3)])\n",
        "\n",
        "pt_ap.add_row([3,\"(5,5)\",'valid',\"Yes\",np.round(history5611.history['loss'][9],3),\n",
        "              np.round(model5611.evaluate(X_test,y_test,verbose=0)[0],3),np.round(model5611.evaluate(X_test,y_test,verbose=0)[1],3)])\n",
        "\n",
        "pt_ap.add_row([5,\"(5,5)\",'valid',\"No\",np.round(history58.history['loss'][9],3),\n",
        "              np.round(model58.evaluate(X_test,y_test,verbose=0)[0],3),np.round(model58.evaluate(X_test,y_test,verbose=0)[1],3)])\n",
        "\n",
        "pt_ap.add_row([5,\"(5,5)\",'valid',\"Yes\",np.round(history581.history['loss'][9],3),\n",
        "              np.round(model581.evaluate(X_test,y_test,verbose=0)[0],3),np.round(model581.evaluate(X_test,y_test,verbose=0)[1],3)])\n",
        "\n",
        "print(pt_ap)"
      ],
      "execution_count": null,
      "outputs": [
        {
          "output_type": "stream",
          "text": [
            "+---------------+--------+---------+--------------+------------+-----------+---------------+\n",
            "| conv2D layers | kernel | padding | avg_pooling? | train loss | test loss | test accuracy |\n",
            "+---------------+--------+---------+--------------+------------+-----------+---------------+\n",
            "|       3       | (5,5)  |  valid  |      No      |   0.011    |   0.032   |      0.99     |\n",
            "|       3       | (5,5)  |  valid  |     Yes      |    0.02    |   0.023   |     0.993     |\n",
            "|       5       | (5,5)  |  valid  |      No      |    0.02    |   0.029   |     0.992     |\n",
            "|       5       | (5,5)  |  valid  |     Yes      |    0.03    |   0.035   |      0.99     |\n",
            "+---------------+--------+---------+--------------+------------+-----------+---------------+\n"
          ],
          "name": "stdout"
        }
      ]
    },
    {
      "cell_type": "markdown",
      "metadata": {
        "id": "5KnwYqyhqHHJ"
      },
      "source": [
        "* average pooling working slightly better than maxpooling but still the results are better if we don't use any pooling methods.\n",
        "\n",
        "---\n",
        "\n"
      ]
    },
    {
      "cell_type": "markdown",
      "metadata": {
        "id": "EwZZDHm_Zt2J"
      },
      "source": [
        "**[3.6] Affect of adding different pool_size**"
      ]
    },
    {
      "cell_type": "code",
      "metadata": {
        "colab": {
          "base_uri": "https://localhost:8080/",
          "height": 374
        },
        "id": "g87YL8JXRq9P",
        "outputId": "dc24d275-97cd-483e-dbec-6e088524f6eb"
      },
      "source": [
        "#(4,4)  pool_size\n",
        "history5_2,model5_2=create_model(nu_conv_layers=3,kernel_size=5,kernel_strides=(1,1),padding='valid',feature_maps=[8,16,32],augmentation_done=False,\n",
        "                               max_pooling=[False]*3,avg_pooling=[False]*3,pool_size=(4,4),pool_strides=[(1,1)]*3,dropout=[False,0.4],nu_dense_lyrs=1,\n",
        "                               size_dense_layers=[128],BN=[False]*3)\n"
      ],
      "execution_count": null,
      "outputs": [
        {
          "output_type": "stream",
          "text": [
            "Train on 60000 samples, validate on 10000 samples\n",
            "Epoch 1/10\n",
            "60000/60000 [==============================] - 110s 2ms/step - loss: 0.1283 - acc: 0.9627 - val_loss: 0.0480 - val_acc: 0.9841\n",
            "Epoch 2/10\n",
            "60000/60000 [==============================] - 105s 2ms/step - loss: 0.0509 - acc: 0.9848 - val_loss: 0.0439 - val_acc: 0.9861\n",
            "Epoch 3/10\n",
            "60000/60000 [==============================] - 105s 2ms/step - loss: 0.0364 - acc: 0.9889 - val_loss: 0.0364 - val_acc: 0.9886\n",
            "Epoch 4/10\n",
            "60000/60000 [==============================] - 105s 2ms/step - loss: 0.0284 - acc: 0.9913 - val_loss: 0.0367 - val_acc: 0.9890\n",
            "Epoch 5/10\n",
            "60000/60000 [==============================] - 106s 2ms/step - loss: 0.0247 - acc: 0.9923 - val_loss: 0.0279 - val_acc: 0.9891\n",
            "Epoch 6/10\n",
            "60000/60000 [==============================] - 106s 2ms/step - loss: 0.0203 - acc: 0.9932 - val_loss: 0.0286 - val_acc: 0.9911\n",
            "Epoch 7/10\n",
            "60000/60000 [==============================] - 105s 2ms/step - loss: 0.0176 - acc: 0.9944 - val_loss: 0.0200 - val_acc: 0.9937\n",
            "Epoch 8/10\n",
            "60000/60000 [==============================] - 106s 2ms/step - loss: 0.0141 - acc: 0.9957 - val_loss: 0.0264 - val_acc: 0.9917\n",
            "Epoch 9/10\n",
            "60000/60000 [==============================] - 106s 2ms/step - loss: 0.0144 - acc: 0.9951 - val_loss: 0.0304 - val_acc: 0.9909\n",
            "Epoch 10/10\n",
            "60000/60000 [==============================] - 105s 2ms/step - loss: 0.0109 - acc: 0.9962 - val_loss: 0.0296 - val_acc: 0.9919\n"
          ],
          "name": "stdout"
        }
      ]
    },
    {
      "cell_type": "code",
      "metadata": {
        "colab": {
          "base_uri": "https://localhost:8080/",
          "height": 374
        },
        "id": "BNEjLqnVKoHU",
        "outputId": "95f3909c-c8c0-408f-e61f-b8bdc1b023c8"
      },
      "source": [
        "#(6,6)\n",
        "history5_3,model5_3=create_model(nu_conv_layers=3,kernel_size=5,kernel_strides=(1,1),padding='valid',feature_maps=[8,16,32],augmentation_done=False,\n",
        "                               max_pooling=[False]*3,avg_pooling=[False]*3,pool_size=(6,6),pool_strides=[(1,1)]*3,dropout=[False,0.4],nu_dense_lyrs=1,\n",
        "                               size_dense_layers=[128],BN=[False]*3)\n"
      ],
      "execution_count": null,
      "outputs": [
        {
          "output_type": "stream",
          "text": [
            "Train on 60000 samples, validate on 10000 samples\n",
            "Epoch 1/10\n",
            "60000/60000 [==============================] - 109s 2ms/step - loss: 0.1235 - acc: 0.9632 - val_loss: 0.0478 - val_acc: 0.9844\n",
            "Epoch 2/10\n",
            "60000/60000 [==============================] - 106s 2ms/step - loss: 0.0474 - acc: 0.9851 - val_loss: 0.0383 - val_acc: 0.9874\n",
            "Epoch 3/10\n",
            "60000/60000 [==============================] - 106s 2ms/step - loss: 0.0355 - acc: 0.9889 - val_loss: 0.0409 - val_acc: 0.9879\n",
            "Epoch 4/10\n",
            "60000/60000 [==============================] - 105s 2ms/step - loss: 0.0268 - acc: 0.9917 - val_loss: 0.0556 - val_acc: 0.9822\n",
            "Epoch 5/10\n",
            "60000/60000 [==============================] - 105s 2ms/step - loss: 0.0221 - acc: 0.9930 - val_loss: 0.0318 - val_acc: 0.9905\n",
            "Epoch 6/10\n",
            "60000/60000 [==============================] - 105s 2ms/step - loss: 0.0199 - acc: 0.9935 - val_loss: 0.0308 - val_acc: 0.9905\n",
            "Epoch 7/10\n",
            "60000/60000 [==============================] - 105s 2ms/step - loss: 0.0159 - acc: 0.9950 - val_loss: 0.0362 - val_acc: 0.9901\n",
            "Epoch 8/10\n",
            "60000/60000 [==============================] - 105s 2ms/step - loss: 0.0141 - acc: 0.9956 - val_loss: 0.0290 - val_acc: 0.9904\n",
            "Epoch 9/10\n",
            "60000/60000 [==============================] - 105s 2ms/step - loss: 0.0119 - acc: 0.9962 - val_loss: 0.0272 - val_acc: 0.9920\n",
            "Epoch 10/10\n",
            "60000/60000 [==============================] - 105s 2ms/step - loss: 0.0101 - acc: 0.9968 - val_loss: 0.0274 - val_acc: 0.9914\n"
          ],
          "name": "stdout"
        }
      ]
    },
    {
      "cell_type": "markdown",
      "metadata": {
        "id": "mZsuPyGPSlhD"
      },
      "source": [
        "**[3.6.1] summarizing the results**"
      ]
    },
    {
      "cell_type": "code",
      "metadata": {
        "colab": {
          "base_uri": "https://localhost:8080/",
          "height": 153
        },
        "id": "t1FvwAtUSkdt",
        "outputId": "42dc6e76-b5ac-441d-e63a-287a2c492c7f"
      },
      "source": [
        "pt_ps=PrettyTable()\n",
        "pt_ps.field_names=[\"conv2D layers\",\"kernel size\",\"padding\",\"maxpool/avgpool?\",\"poolsize\",\"train loss\",\"test loss\",\"test accuracy\"]\n",
        "pt_ps.add_row([3,\"(5,5)\",\"valid\",'NO',(2,2),np.round(history57.history['loss'][9],3),\n",
        "              np.round(model561.evaluate(X_test,y_test,verbose=0)[0],3),np.round(model561.evaluate(X_test,y_test,verbose=0)[1],3)])\n",
        "\n",
        "pt_ps.add_row([3,\"(5,5)\",\"valid\",'No',(4,4),np.round(history5_2.history['loss'][9],3),\n",
        "              np.round(model5_2.evaluate(X_test,y_test,verbose=0)[0],2),np.round(model5_2.evaluate(X_test,y_test,verbose=0)[1],3)])\n",
        "\n",
        "pt_ps.add_row([3,\"(5,5)\",\"valid\",'No',(6,6),np.round(history5_3.history['loss'][9],3),\n",
        "              np.round(model5_3.evaluate(X_test,y_test,verbose=0)[0],3),np.round(model5_3.evaluate(X_test,y_test,verbose=0)[1],3)])\n",
        "print(\"effect of different pool size on cnn performance keeping other parameters same\")\n",
        "print(pt_ps)"
      ],
      "execution_count": null,
      "outputs": [
        {
          "output_type": "stream",
          "text": [
            "effect of different pool size on cnn performance keeping other parameters same\n",
            "+---------------+-------------+---------+------------------+----------+------------+-----------+---------------+\n",
            "| conv2D layers | kernel size | padding | maxpool/avgpool? | poolsize | train loss | test loss | test accuracy |\n",
            "+---------------+-------------+---------+------------------+----------+------------+-----------+---------------+\n",
            "|       3       |    (5,5)    |  valid  |        NO        |  (2, 2)  |   0.019    |   0.032   |      0.99     |\n",
            "|       3       |    (5,5)    |  valid  |        No        |  (4, 4)  |   0.011    |    0.03   |     0.992     |\n",
            "|       3       |    (5,5)    |  valid  |        No        |  (6, 6)  |    0.01    |   0.027   |     0.991     |\n",
            "+---------------+-------------+---------+------------------+----------+------------+-----------+---------------+\n"
          ],
          "name": "stdout"
        }
      ]
    },
    {
      "cell_type": "markdown",
      "metadata": {
        "id": "OogP7KNzXQQD"
      },
      "source": [
        "**[3.7] effect of adding more number of dense layers**"
      ]
    },
    {
      "cell_type": "code",
      "metadata": {
        "colab": {
          "base_uri": "https://localhost:8080/",
          "height": 731
        },
        "id": "gmG7PVPYXPjL",
        "outputId": "c6c57670-672e-4f5a-de4f-5a52713065fb"
      },
      "source": [
        "history5_4,model5_4=create_model(nu_conv_layers=3,kernel_size=5,kernel_strides=(1,1),padding='valid',feature_maps=[8,16,32],augmentation_done=False,\n",
        "                               max_pooling=[False]*3,avg_pooling=[False]*3,pool_size=(2,2),pool_strides=[(1,1)]*3,dropout=[False,0.4],nu_dense_lyrs=2,\n",
        "                               size_dense_layers=[32,16],BN=[False]*3)\n",
        "\n",
        "history5_5,model5_5=create_model(nu_conv_layers=3,kernel_size=5,kernel_strides=(1,1),padding='valid',feature_maps=[8,16,32],augmentation_done=False,\n",
        "                               max_pooling=[False]*3,avg_pooling=[False]*3,pool_size=(2,2),pool_strides=[(1,1)]*3,dropout=[False,0.4],nu_dense_lyrs=3,\n",
        "                               size_dense_layers=[64,32,16],BN=[False]*3)"
      ],
      "execution_count": null,
      "outputs": [
        {
          "output_type": "stream",
          "text": [
            "Train on 60000 samples, validate on 10000 samples\n",
            "Epoch 1/10\n",
            "60000/60000 [==============================] - 98s 2ms/step - loss: 0.7039 - acc: 0.7966 - val_loss: 0.0741 - val_acc: 0.9787\n",
            "Epoch 2/10\n",
            "60000/60000 [==============================] - 94s 2ms/step - loss: 0.2690 - acc: 0.9232 - val_loss: 0.0498 - val_acc: 0.9848\n",
            "Epoch 3/10\n",
            "60000/60000 [==============================] - 95s 2ms/step - loss: 0.1976 - acc: 0.9425 - val_loss: 0.0566 - val_acc: 0.9833\n",
            "Epoch 4/10\n",
            "60000/60000 [==============================] - 93s 2ms/step - loss: 0.1678 - acc: 0.9502 - val_loss: 0.0385 - val_acc: 0.9878\n",
            "Epoch 5/10\n",
            "60000/60000 [==============================] - 92s 2ms/step - loss: 0.1412 - acc: 0.9574 - val_loss: 0.0428 - val_acc: 0.9870\n",
            "Epoch 6/10\n",
            "60000/60000 [==============================] - 92s 2ms/step - loss: 0.1369 - acc: 0.9572 - val_loss: 0.0365 - val_acc: 0.9896\n",
            "Epoch 7/10\n",
            "60000/60000 [==============================] - 93s 2ms/step - loss: 0.1195 - acc: 0.9630 - val_loss: 0.0330 - val_acc: 0.9903\n",
            "Epoch 8/10\n",
            "60000/60000 [==============================] - 94s 2ms/step - loss: 0.1156 - acc: 0.9643 - val_loss: 0.0346 - val_acc: 0.9906\n",
            "Epoch 9/10\n",
            "60000/60000 [==============================] - 94s 2ms/step - loss: 0.1056 - acc: 0.9655 - val_loss: 0.0409 - val_acc: 0.9885\n",
            "Epoch 10/10\n",
            "60000/60000 [==============================] - 94s 2ms/step - loss: 0.1046 - acc: 0.9660 - val_loss: 0.0382 - val_acc: 0.9899\n",
            "Train on 60000 samples, validate on 10000 samples\n",
            "Epoch 1/10\n",
            "60000/60000 [==============================] - 102s 2ms/step - loss: 0.8834 - acc: 0.7331 - val_loss: 0.0890 - val_acc: 0.9777\n",
            "Epoch 2/10\n",
            "60000/60000 [==============================] - 98s 2ms/step - loss: 0.3197 - acc: 0.9115 - val_loss: 0.0727 - val_acc: 0.9803\n",
            "Epoch 3/10\n",
            "60000/60000 [==============================] - 98s 2ms/step - loss: 0.2156 - acc: 0.9426 - val_loss: 0.0658 - val_acc: 0.9818\n",
            "Epoch 4/10\n",
            "60000/60000 [==============================] - 99s 2ms/step - loss: 0.1738 - acc: 0.9534 - val_loss: 0.0450 - val_acc: 0.9884\n",
            "Epoch 5/10\n",
            "60000/60000 [==============================] - 99s 2ms/step - loss: 0.1430 - acc: 0.9614 - val_loss: 0.0474 - val_acc: 0.9858\n",
            "Epoch 6/10\n",
            "60000/60000 [==============================] - 99s 2ms/step - loss: 0.1341 - acc: 0.9644 - val_loss: 0.0700 - val_acc: 0.9838\n",
            "Epoch 7/10\n",
            "60000/60000 [==============================] - 99s 2ms/step - loss: 0.1235 - acc: 0.9669 - val_loss: 0.0319 - val_acc: 0.9921\n",
            "Epoch 8/10\n",
            "60000/60000 [==============================] - 98s 2ms/step - loss: 0.1081 - acc: 0.9713 - val_loss: 0.0316 - val_acc: 0.9917\n",
            "Epoch 9/10\n",
            "60000/60000 [==============================] - 99s 2ms/step - loss: 0.1009 - acc: 0.9726 - val_loss: 0.0296 - val_acc: 0.9929\n",
            "Epoch 10/10\n",
            "60000/60000 [==============================] - 98s 2ms/step - loss: 0.0959 - acc: 0.9738 - val_loss: 0.0421 - val_acc: 0.9898\n"
          ],
          "name": "stdout"
        }
      ]
    },
    {
      "cell_type": "code",
      "metadata": {
        "colab": {
          "base_uri": "https://localhost:8080/",
          "height": 374
        },
        "id": "SW8eVZpv8yq6",
        "outputId": "8deb4c45-2336-405f-967f-64a6eb53f858"
      },
      "source": [
        "history5_5_1,model5_5_1=create_model(nu_conv_layers=3,kernel_size=5,kernel_strides=(1,1),padding='valid',feature_maps=[8,16,32],augmentation_done=False,\n",
        "                               max_pooling=[False]*3,avg_pooling=[False]*3,pool_size=(2,2),pool_strides=[(1,1)]*3,dropout=[False,0.4],nu_dense_lyrs=3,\n",
        "                               size_dense_layers=[64,32,16,8],BN=[False]*3)"
      ],
      "execution_count": null,
      "outputs": [
        {
          "output_type": "stream",
          "text": [
            "Train on 60000 samples, validate on 10000 samples\n",
            "Epoch 1/10\n",
            "60000/60000 [==============================] - 103s 2ms/step - loss: 0.8434 - acc: 0.7410 - val_loss: 0.0888 - val_acc: 0.9773\n",
            "Epoch 2/10\n",
            "60000/60000 [==============================] - 99s 2ms/step - loss: 0.3087 - acc: 0.9148 - val_loss: 0.0484 - val_acc: 0.9846\n",
            "Epoch 3/10\n",
            "60000/60000 [==============================] - 99s 2ms/step - loss: 0.2158 - acc: 0.9408 - val_loss: 0.0378 - val_acc: 0.9886\n",
            "Epoch 4/10\n",
            "60000/60000 [==============================] - 99s 2ms/step - loss: 0.1661 - acc: 0.9553 - val_loss: 0.0392 - val_acc: 0.9888\n",
            "Epoch 5/10\n",
            "60000/60000 [==============================] - 99s 2ms/step - loss: 0.1480 - acc: 0.9600 - val_loss: 0.0447 - val_acc: 0.9874\n",
            "Epoch 6/10\n",
            "60000/60000 [==============================] - 99s 2ms/step - loss: 0.1316 - acc: 0.9646 - val_loss: 0.0340 - val_acc: 0.9912\n",
            "Epoch 7/10\n",
            "60000/60000 [==============================] - 99s 2ms/step - loss: 0.1228 - acc: 0.9680 - val_loss: 0.0310 - val_acc: 0.9919\n",
            "Epoch 8/10\n",
            "60000/60000 [==============================] - 99s 2ms/step - loss: 0.1083 - acc: 0.9708 - val_loss: 0.0506 - val_acc: 0.9887\n",
            "Epoch 9/10\n",
            "60000/60000 [==============================] - 100s 2ms/step - loss: 0.1007 - acc: 0.9729 - val_loss: 0.0330 - val_acc: 0.9914\n",
            "Epoch 10/10\n",
            "60000/60000 [==============================] - 99s 2ms/step - loss: 0.0949 - acc: 0.9735 - val_loss: 0.0303 - val_acc: 0.9921\n"
          ],
          "name": "stdout"
        }
      ]
    },
    {
      "cell_type": "markdown",
      "metadata": {
        "id": "URsKcYovInUY"
      },
      "source": [
        "**[3.7.1] summarizing the result**"
      ]
    },
    {
      "cell_type": "code",
      "metadata": {
        "colab": {
          "base_uri": "https://localhost:8080/",
          "height": 170
        },
        "id": "zrdlO0XkIq3K",
        "outputId": "384b9a48-a215-4e48-e52a-6810702a0145"
      },
      "source": [
        "pt_dl=PrettyTable()\n",
        "pt_dl.field_names=[\"conv2D layers\",\"kernel\",\"padding\",\"maxpool/avgpool?\",\"poolsize\",\"num_dense_layers\",\"train_loss\",\"test loss\",\"test accuracy\"]\n",
        "pt_dl.add_row([3,\"(5,5)\",\"valid\",\"No\",\"(2,2)\",1,np.round(history57.history['loss'][9],3),\n",
        "              np.round(model57.evaluate(X_test,y_test,verbose=0)[0],3),np.round(model57.evaluate(X_test,y_test,verbose=0)[1],3)])\n",
        "\n",
        "pt_dl.add_row([3,\"(5,5)\",\"valid\",\"No\",\"(2,2)\",2,np.round(history5_4.history['loss'][9],3),\n",
        "              np.round(model5_4.evaluate(X_test,y_test,verbose=0)[0],3),np.round(model5_4.evaluate(X_test,y_test,verbose=0)[1],3)])\n",
        "\n",
        "pt_dl.add_row([3,\"(5,5)\",\"valid\",\"No\",\"(2,2)\",3,np.round(history5_5.history['loss'][9],3),\n",
        "              np.round(model5_5.evaluate(X_test,y_test,verbose=0)[0],3),np.round(model5_5.evaluate(X_test,y_test,verbose=0)[1],3)])\n",
        "\n",
        "pt_dl.add_row([3,\"(5,5)\",\"valid\",\"No\",\"(2,2)\",4,np.round(history5_5_1.history['loss'][9],3),\n",
        "              np.round(model5_5_1.evaluate(X_test,y_test,verbose=0)[0],3),np.round(model5_5_1.evaluate(X_test,y_test,verbose=0)[1],3)])\n",
        "\n",
        "print(\"effect of different dense layers cnn performance keeping other parameters same\")\n",
        "print(pt_dl)"
      ],
      "execution_count": null,
      "outputs": [
        {
          "output_type": "stream",
          "text": [
            "effect of different dense layers cnn performance keeping other parameters same\n",
            "+---------------+--------+---------+------------------+----------+------------------+------------+-----------+---------------+\n",
            "| conv2D layers | kernel | padding | maxpool/avgpool? | poolsize | num_dense_layers | train_loss | test loss | test accuracy |\n",
            "+---------------+--------+---------+------------------+----------+------------------+------------+-----------+---------------+\n",
            "|       3       | (5,5)  |  valid  |        No        |  (2,2)   |        1         |   0.019    |   0.022   |     0.992     |\n",
            "|       3       | (5,5)  |  valid  |        No        |  (2,2)   |        2         |   0.105    |   0.038   |      0.99     |\n",
            "|       3       | (5,5)  |  valid  |        No        |  (2,2)   |        3         |   0.096    |   0.042   |      0.99     |\n",
            "|       3       | (5,5)  |  valid  |        No        |  (2,2)   |        4         |   0.095    |    0.03   |     0.992     |\n",
            "+---------------+--------+---------+------------------+----------+------------------+------------+-----------+---------------+\n"
          ],
          "name": "stdout"
        }
      ]
    },
    {
      "cell_type": "markdown",
      "metadata": {
        "id": "Sfc2pELfup6j"
      },
      "source": [
        "\n",
        "\n",
        "---\n",
        "\n"
      ]
    },
    {
      "cell_type": "markdown",
      "metadata": {
        "id": "MF_pTXq3Yzx0"
      },
      "source": [
        "**[3.8] affect of adding batch normalization**"
      ]
    },
    {
      "cell_type": "code",
      "metadata": {
        "colab": {
          "base_uri": "https://localhost:8080/",
          "height": 1000
        },
        "id": "piF4V79LVj0Y",
        "outputId": "df704595-c9c6-41ff-d64b-d7b94c31e71a"
      },
      "source": [
        "#without BN to 3 conv layer architecture\n",
        "history5_41,model5_41=create_model(nu_conv_layers=3,kernel_size=5,kernel_strides=(1,1),padding='valid',feature_maps=[8,16,32],augmentation_done=False,\n",
        "                               max_pooling=[False]*3,avg_pooling=[False]*3,pool_size=(2,2),pool_strides=[(1,1)]*3,dropout=[False,0.4],nu_dense_lyrs=3,\n",
        "                               size_dense_layers=[64,32,16],BN=[False]*3)\n",
        "\n",
        "#adding BN to 3 conv layer\n",
        "historyn_1,modeln_1=create_model(nu_conv_layers=3,kernel_size=5,kernel_strides=(1,1),padding='valid',feature_maps=[8,16,32],augmentation_done=False,\n",
        "                               max_pooling=[False]*3,avg_pooling=[False]*3,pool_size=(2,2),pool_strides=[(1,1)]*3,dropout=[False,0.4],nu_dense_lyrs=3,\n",
        "                               size_dense_layers=[64,32,16],BN=[True]*3)\n",
        "\n",
        "#adding batch normalization to dense layers only\n",
        "history5_6,model5_6=create_model(nu_conv_layers=5,kernel_size=5,kernel_strides=(1,1),padding='valid',feature_maps=[8,16,24,32,32],augmentation_done=False,\n",
        "                               max_pooling=[False]*5,avg_pooling=[False]*5,pool_size=(2,2),pool_strides=[(1,1)]*5,\n",
        "                                 dropout=[False,0.4],nu_dense_lyrs=3,size_dense_layers=[64,32,16],BN=[False]*5)\n",
        "\n",
        "#applying BN to all layers\n",
        "history5_7,model5_7=create_model(nu_conv_layers=5,kernel_size=5,kernel_strides=(1,1),padding='valid',feature_maps=[8,16,24,32,32],augmentation_done=False,\n",
        "                               max_pooling=[False]*5,avg_pooling=[False]*5,pool_size=(2,2),pool_strides=[(1,1)]*5,\n",
        "                                 dropout=[False,0.4],nu_dense_lyrs=3,size_dense_layers=[64,32,16],BN=[True]*5)"
      ],
      "execution_count": null,
      "outputs": [
        {
          "output_type": "stream",
          "text": [
            "Train on 60000 samples, validate on 10000 samples\n",
            "Epoch 1/10\n",
            "60000/60000 [==============================] - 104s 2ms/step - loss: 0.8117 - acc: 0.7534 - val_loss: 0.0866 - val_acc: 0.9777\n",
            "Epoch 2/10\n",
            "60000/60000 [==============================] - 98s 2ms/step - loss: 0.2870 - acc: 0.9221 - val_loss: 0.1136 - val_acc: 0.9685\n",
            "Epoch 3/10\n",
            "60000/60000 [==============================] - 98s 2ms/step - loss: 0.1985 - acc: 0.9476 - val_loss: 0.0473 - val_acc: 0.9866\n",
            "Epoch 4/10\n",
            "60000/60000 [==============================] - 98s 2ms/step - loss: 0.1557 - acc: 0.9578 - val_loss: 0.0353 - val_acc: 0.9901\n",
            "Epoch 5/10\n",
            "60000/60000 [==============================] - 98s 2ms/step - loss: 0.1388 - acc: 0.9628 - val_loss: 0.0364 - val_acc: 0.9898\n",
            "Epoch 6/10\n",
            "60000/60000 [==============================] - 99s 2ms/step - loss: 0.1133 - acc: 0.9703 - val_loss: 0.0369 - val_acc: 0.9914\n",
            "Epoch 7/10\n",
            "60000/60000 [==============================] - 99s 2ms/step - loss: 0.1019 - acc: 0.9716 - val_loss: 0.0530 - val_acc: 0.9877\n",
            "Epoch 8/10\n",
            "60000/60000 [==============================] - 98s 2ms/step - loss: 0.0972 - acc: 0.9741 - val_loss: 0.0509 - val_acc: 0.9897\n",
            "Epoch 9/10\n",
            "60000/60000 [==============================] - 98s 2ms/step - loss: 0.0880 - acc: 0.9764 - val_loss: 0.0301 - val_acc: 0.9928\n",
            "Epoch 10/10\n",
            "60000/60000 [==============================] - 99s 2ms/step - loss: 0.0810 - acc: 0.9782 - val_loss: 0.0363 - val_acc: 0.9927\n",
            "Train on 60000 samples, validate on 10000 samples\n",
            "Epoch 1/10\n",
            "60000/60000 [==============================] - 137s 2ms/step - loss: 0.7771 - acc: 0.7716 - val_loss: 0.0894 - val_acc: 0.9772\n",
            "Epoch 2/10\n",
            "60000/60000 [==============================] - 131s 2ms/step - loss: 0.2601 - acc: 0.9331 - val_loss: 0.0482 - val_acc: 0.9866\n",
            "Epoch 3/10\n",
            "60000/60000 [==============================] - 134s 2ms/step - loss: 0.1791 - acc: 0.9558 - val_loss: 0.0678 - val_acc: 0.9826\n",
            "Epoch 4/10\n",
            "60000/60000 [==============================] - 131s 2ms/step - loss: 0.1416 - acc: 0.9641 - val_loss: 0.0344 - val_acc: 0.9913\n",
            "Epoch 5/10\n",
            "60000/60000 [==============================] - 127s 2ms/step - loss: 0.1198 - acc: 0.9689 - val_loss: 0.0514 - val_acc: 0.9883\n",
            "Epoch 6/10\n",
            "60000/60000 [==============================] - 127s 2ms/step - loss: 0.1073 - acc: 0.9731 - val_loss: 0.0345 - val_acc: 0.9918\n",
            "Epoch 7/10\n",
            "60000/60000 [==============================] - 132s 2ms/step - loss: 0.0928 - acc: 0.9756 - val_loss: 0.0412 - val_acc: 0.9903\n",
            "Epoch 8/10\n",
            "60000/60000 [==============================] - 132s 2ms/step - loss: 0.0916 - acc: 0.9763 - val_loss: 0.0403 - val_acc: 0.9900\n",
            "Epoch 9/10\n",
            "60000/60000 [==============================] - 132s 2ms/step - loss: 0.0834 - acc: 0.9793 - val_loss: 0.0416 - val_acc: 0.9909\n",
            "Epoch 10/10\n",
            "60000/60000 [==============================] - 133s 2ms/step - loss: 0.0774 - acc: 0.9797 - val_loss: 0.0409 - val_acc: 0.9894\n",
            "Train on 60000 samples, validate on 10000 samples\n",
            "Epoch 1/10\n",
            "60000/60000 [==============================] - 157s 3ms/step - loss: 1.0301 - acc: 0.6631 - val_loss: 0.1527 - val_acc: 0.9625\n",
            "Epoch 2/10\n",
            "60000/60000 [==============================] - 150s 3ms/step - loss: 0.3516 - acc: 0.9047 - val_loss: 0.0651 - val_acc: 0.9817\n",
            "Epoch 3/10\n",
            "60000/60000 [==============================] - 151s 3ms/step - loss: 0.2159 - acc: 0.9428 - val_loss: 0.0478 - val_acc: 0.9868\n",
            "Epoch 4/10\n",
            "60000/60000 [==============================] - 149s 2ms/step - loss: 0.1724 - acc: 0.9556 - val_loss: 0.0434 - val_acc: 0.9872\n",
            "Epoch 5/10\n",
            "60000/60000 [==============================] - 148s 2ms/step - loss: 0.1488 - acc: 0.9628 - val_loss: 0.0791 - val_acc: 0.9804\n",
            "Epoch 6/10\n",
            "60000/60000 [==============================] - 149s 2ms/step - loss: 0.1333 - acc: 0.9664 - val_loss: 0.0395 - val_acc: 0.9883\n",
            "Epoch 7/10\n",
            "60000/60000 [==============================] - 150s 2ms/step - loss: 0.1208 - acc: 0.9689 - val_loss: 0.0434 - val_acc: 0.9899\n",
            "Epoch 8/10\n",
            "60000/60000 [==============================] - 149s 2ms/step - loss: 0.1061 - acc: 0.9727 - val_loss: 0.0484 - val_acc: 0.9884\n",
            "Epoch 9/10\n",
            "60000/60000 [==============================] - 149s 2ms/step - loss: 0.1012 - acc: 0.9746 - val_loss: 0.0437 - val_acc: 0.9910\n",
            "Epoch 10/10\n",
            "60000/60000 [==============================] - 149s 2ms/step - loss: 0.0968 - acc: 0.9747 - val_loss: 0.0394 - val_acc: 0.9924\n",
            "Train on 60000 samples, validate on 10000 samples\n",
            "Epoch 1/10\n",
            "60000/60000 [==============================] - 195s 3ms/step - loss: 0.8793 - acc: 0.7396 - val_loss: 0.0954 - val_acc: 0.9742\n",
            "Epoch 2/10\n",
            "60000/60000 [==============================] - 188s 3ms/step - loss: 0.2694 - acc: 0.9342 - val_loss: 0.0627 - val_acc: 0.9837\n",
            "Epoch 3/10\n",
            "60000/60000 [==============================] - 187s 3ms/step - loss: 0.1760 - acc: 0.9590 - val_loss: 0.0549 - val_acc: 0.9864\n",
            "Epoch 4/10\n",
            "60000/60000 [==============================] - 188s 3ms/step - loss: 0.1421 - acc: 0.9662 - val_loss: 0.0393 - val_acc: 0.9905\n",
            "Epoch 5/10\n",
            "60000/60000 [==============================] - 187s 3ms/step - loss: 0.1240 - acc: 0.9706 - val_loss: 0.0409 - val_acc: 0.9906\n",
            "Epoch 6/10\n",
            "60000/60000 [==============================] - 185s 3ms/step - loss: 0.1134 - acc: 0.9733 - val_loss: 0.0420 - val_acc: 0.9914\n",
            "Epoch 7/10\n",
            "60000/60000 [==============================] - 182s 3ms/step - loss: 0.1037 - acc: 0.9756 - val_loss: 0.0548 - val_acc: 0.9886\n",
            "Epoch 8/10\n",
            "60000/60000 [==============================] - 186s 3ms/step - loss: 0.1015 - acc: 0.9756 - val_loss: 0.0405 - val_acc: 0.9902\n",
            "Epoch 9/10\n",
            "60000/60000 [==============================] - 186s 3ms/step - loss: 0.0898 - acc: 0.9783 - val_loss: 0.0525 - val_acc: 0.9904\n",
            "Epoch 10/10\n",
            "60000/60000 [==============================] - 188s 3ms/step - loss: 0.0847 - acc: 0.9804 - val_loss: 0.0528 - val_acc: 0.9876\n"
          ],
          "name": "stdout"
        }
      ]
    },
    {
      "cell_type": "markdown",
      "metadata": {
        "id": "jvTrVBNYut6s"
      },
      "source": [
        "**[3.8.1] Summarizing the result**"
      ]
    },
    {
      "cell_type": "code",
      "metadata": {
        "colab": {
          "base_uri": "https://localhost:8080/",
          "height": 190
        },
        "id": "3LbK0VLFJTpA",
        "outputId": "d57d8da9-4de5-4a2e-be80-794818bbdc1d"
      },
      "source": [
        "pt_bn=PrettyTable()\n",
        "pt_bn.field_names=[\"conv2D layers\",\"kernel\",\"padding\",\"maxpool/avgpool?\",\"poolsize\",\"dense layers\",\"batch_normalization_on_convlayers\"\n",
        "                   ,\"train loss\",\"test loss\",\"test accuracy\"]\n",
        "\n",
        "pt_bn.add_row([3,\"(5,5)\",\"valid\",\"No\",\"(2,2)\",3,\"No\",np.round(history5_41.history['loss'][9],3),\n",
        "               np.round(model5_41.evaluate(X_test,y_test,verbose=0)[0],3),np.round(model5_41.evaluate(X_test,y_test,verbose=0)[1],3)])\n",
        "\n",
        "pt_bn.add_row([3,\"(5,5)\",\"valid\",\"No\",\"(2,2)\",3,\"Yes\",np.round(historyn_1.history['loss'][9],3),\n",
        "               np.round(modeln_1.evaluate(X_test,y_test,verbose=0)[0],3),np.round(modeln_1.evaluate(X_test,y_test,verbose=0)[1],3)])\n",
        "\n",
        "pt_bn.add_row([5,\"(5,5)\",\"valid\",\"No\",\"(2,2)\",3,\"No\",np.round(history5_6.history['loss'][9],3),\n",
        "               np.round(model5_6.evaluate(X_test,y_test,verbose=0)[0],3),np.round(model5_6.evaluate(X_test,y_test,verbose=0)[1],3)])\n",
        "\n",
        "pt_bn.add_row([5,\"(5,5)\",\"valid\",\"No\",\"(2,2)\",3,\"Yes\",np.round(history5_7.history['loss'][9],3),\n",
        "               np.round(model5_7.evaluate(X_test,y_test,verbose=0)[0],3),np.round(model5_7.evaluate(X_test,y_test,verbose=0)[1],3)])\n",
        "print(\"effect of batch bormalization on cnn performance keeping other parameters same\")\n",
        "print(pt_bn)"
      ],
      "execution_count": null,
      "outputs": [
        {
          "output_type": "stream",
          "text": [
            "effect of batch bormalization on cnn performance keeping other parameters same\n",
            "+---------------+--------+---------+------------------+----------+--------------+-----------------------------------+------------+-----------+---------------+\n",
            "| conv2D layers | kernel | padding | maxpool/avgpool? | poolsize | dense layers | batch_normalization_on_convlayers | train loss | test loss | test accuracy |\n",
            "+---------------+--------+---------+------------------+----------+--------------+-----------------------------------+------------+-----------+---------------+\n",
            "|       3       | (5,5)  |  valid  |        No        |  (2,2)   |      3       |                 No                |   0.081    |   0.036   |     0.993     |\n",
            "|       3       | (5,5)  |  valid  |        No        |  (2,2)   |      3       |                Yes                |   0.077    |   0.041   |     0.989     |\n",
            "|       5       | (5,5)  |  valid  |        No        |  (2,2)   |      3       |                 No                |   0.097    |   0.039   |     0.992     |\n",
            "|       5       | (5,5)  |  valid  |        No        |  (2,2)   |      3       |                Yes                |   0.085    |   0.053   |     0.988     |\n",
            "+---------------+--------+---------+------------------+----------+--------------+-----------------------------------+------------+-----------+---------------+\n"
          ],
          "name": "stdout"
        }
      ]
    },
    {
      "cell_type": "markdown",
      "metadata": {
        "id": "V4_8pgrkuyNk"
      },
      "source": [
        "\n",
        "\n",
        "---\n",
        "\n"
      ]
    },
    {
      "cell_type": "markdown",
      "metadata": {
        "id": "mfetlFbtZcpH"
      },
      "source": [
        "**[3.9] Affect of dropout rate On Convolution Layers**"
      ]
    },
    {
      "cell_type": "code",
      "metadata": {
        "id": "rNE2tuHDKYFW"
      },
      "source": [
        "#Dropout =0.1\n",
        "history5_8,model5_8=create_model(nu_conv_layers=3,kernel_size=5,kernel_strides=(1,1),padding='valid',feature_maps=[8,16,32],augmentation_done=False,\n",
        "                               max_pooling=[False]*3,avg_pooling=[False]*3,pool_size=(2,2),pool_strides=[(1,1)]*3,dropout=[True,0.1],nu_dense_lyrs=2,\n",
        "                               size_dense_layers=[32,16],BN=[True]*3)\n",
        "#dropout=0.5\n",
        "history5_9,model5_9=create_model(nu_conv_layers=3,kernel_size=5,kernel_strides=(1,1),padding='valid',feature_maps=[8,16,32],augmentation_done=False,\n",
        "                               max_pooling=[False]*3,avg_pooling=[False]*3,pool_size=(2,2),pool_strides=[(1,1)]*3,dropout=[True,0.5],nu_dense_lyrs=2,\n",
        "                               size_dense_layers=[32,16],BN=[True]*3)\n",
        "\n",
        "#dropout=0.8\n",
        "history5_10,model5_10=create_model(nu_conv_layers=3,kernel_size=5,kernel_strides=(1,1),padding='valid',feature_maps=[8,16,32],augmentation_done=False,\n",
        "                               max_pooling=[False]*3,avg_pooling=[False]*3,pool_size=(2,2),pool_strides=[(1,1)]*3,dropout=[True,0.8],nu_dense_lyrs=2,\n",
        "                               size_dense_layers=[32,16],BN=[True]*3)"
      ],
      "execution_count": null,
      "outputs": []
    },
    {
      "cell_type": "markdown",
      "metadata": {
        "id": "44DRyO5yL_P7"
      },
      "source": [
        "**[3.9.1] Summarizing the result**"
      ]
    },
    {
      "cell_type": "code",
      "metadata": {
        "colab": {
          "base_uri": "https://localhost:8080/",
          "height": 170
        },
        "id": "QRow6KhRL-nJ",
        "outputId": "b572d92d-2f7a-4c5a-ec9b-04947c0599a5"
      },
      "source": [
        "pt_dr=PrettyTable()\n",
        "pt_dr.field_names=[\"conv2D layers\",\"kernel\",\"padding\",\"maxpool/avgpool?\",\"pool_size\",\"num_dense_layers\",\"BN\",\"Drp_out_conv_layer\",\n",
        "                   \"train loss\",\"test loss\",\"test accuracy\"]\n",
        "pt_dr.add_row([3,\"(5,5)\",\"valid\",\"No\",\"(2,2)\",3,\"Yes\",\"No\",np.round(historyn_1.history['loss'][9],3)\n",
        "               ,np.round(modeln_1.evaluate(X_test,y_test,verbose=0)[0],3),np.round(modeln_1.evaluate(X_test,y_test,verbose=0)[1],3)])\n",
        "\n",
        "pt_dr.add_row([3,\"(5,5)\",\"valid\",\"No\",\"(2,2)\",2,\"Yes\",0.1,np.round(history5_8.history['loss'][9],3)\n",
        "               ,np.round(model5_8.evaluate(X_test,y_test,verbose=0)[0],3),np.round(model5_8.evaluate(X_test,y_test,verbose=0)[1],3)])\n",
        "\n",
        "pt_dr.add_row([3,\"(5,5)\",\"valid\",\"No\",\"(2,2)\",2,\"Yes\",0.5,np.round(history5_9.history['loss'][9],3)\n",
        "               ,np.round(model5_9.evaluate(X_test,y_test,verbose=0)[0],3),np.round(model5_9.evaluate(X_test,y_test,verbose=0)[1],3)])\n",
        "\n",
        "pt_dr.add_row([3,\"(5,5)\",\"valid\",\"No\",\"(2,2)\",2,\"Yes\",0.8,np.round(history5_10.history['loss'][9],3)\n",
        "               ,np.round(model5_10.evaluate(X_test,y_test,verbose=0)[0],3),np.round(model5_10.evaluate(X_test,y_test,verbose=0)[1],3)])\n",
        "\n",
        "print(\"effect of different Dropout Rates On cnn performance keeping other parameters same\")\n",
        "print(pt_dr)"
      ],
      "execution_count": null,
      "outputs": [
        {
          "output_type": "stream",
          "text": [
            "effect of different Dropout Rates On cnn performance keeping other parameters same\n",
            "+---------------+--------+---------+------------------+-----------+------------------+-----+--------------------+------------+-----------+---------------+\n",
            "| conv2D layers | kernel | padding | maxpool/avgpool? | pool_size | num_dense_layers |  BN | Drp_out_conv_layer | train loss | test loss | test accuracy |\n",
            "+---------------+--------+---------+------------------+-----------+------------------+-----+--------------------+------------+-----------+---------------+\n",
            "|       3       | (5,5)  |  valid  |        No        |   (2,2)   |        3         | Yes |         No         |   0.077    |   0.041   |     0.989     |\n",
            "|       3       | (5,5)  |  valid  |        No        |   (2,2)   |        2         | Yes |        0.1         |    0.07    |   0.033   |     0.992     |\n",
            "|       3       | (5,5)  |  valid  |        No        |   (2,2)   |        2         | Yes |        0.5         |   0.119    |    0.03   |     0.991     |\n",
            "|       3       | (5,5)  |  valid  |        No        |   (2,2)   |        2         | Yes |        0.8         |   0.286    |   0.065   |      0.98     |\n",
            "+---------------+--------+---------+------------------+-----------+------------------+-----+--------------------+------------+-----------+---------------+\n"
          ],
          "name": "stdout"
        }
      ]
    },
    {
      "cell_type": "markdown",
      "metadata": {
        "id": "H_xjKt9jvXtO"
      },
      "source": [
        "\n",
        "\n",
        "---\n",
        "\n"
      ]
    },
    {
      "cell_type": "markdown",
      "metadata": {
        "id": "luSpN0-vZAx-"
      },
      "source": [
        "**[3.10] affect of data augmentation**"
      ]
    },
    {
      "cell_type": "code",
      "metadata": {
        "colab": {
          "base_uri": "https://localhost:8080/",
          "height": 357
        },
        "id": "Zr_PWQxqLxfF",
        "outputId": "8dc68403-26fd-47f2-81e2-91c98387f2e7"
      },
      "source": [
        "history5_11,model5_11,datagen_11=create_model(nu_conv_layers=3,kernel_size=5,kernel_strides=(1,1),padding='valid',feature_maps=[8,16,32],augmentation_done=True,\n",
        "                               max_pooling=[False]*3,avg_pooling=[False]*3,pool_size=(2,2),pool_strides=[(1,1)]*5,dropout=[True,0.5],nu_dense_lyrs=3,\n",
        "                               size_dense_layers=[64,32,16],BN=[True]*3)\n"
      ],
      "execution_count": null,
      "outputs": [
        {
          "output_type": "stream",
          "text": [
            "Epoch 1/10\n",
            "600/600 [==============================] - 174s 290ms/step - loss: 2.1610 - acc: 0.2493 - val_loss: 1.1506 - val_acc: 0.6195\n",
            "Epoch 2/10\n",
            "600/600 [==============================] - 165s 275ms/step - loss: 1.5114 - acc: 0.4647 - val_loss: 0.6754 - val_acc: 0.7689\n",
            "Epoch 3/10\n",
            "600/600 [==============================] - 165s 275ms/step - loss: 1.1328 - acc: 0.6145 - val_loss: 0.3360 - val_acc: 0.9356\n",
            "Epoch 4/10\n",
            "600/600 [==============================] - 165s 275ms/step - loss: 0.8935 - acc: 0.7198 - val_loss: 0.1774 - val_acc: 0.9569\n",
            "Epoch 5/10\n",
            "600/600 [==============================] - 165s 275ms/step - loss: 0.7181 - acc: 0.7832 - val_loss: 0.1425 - val_acc: 0.9617\n",
            "Epoch 6/10\n",
            "600/600 [==============================] - 165s 276ms/step - loss: 0.6424 - acc: 0.8145 - val_loss: 0.1244 - val_acc: 0.9641\n",
            "Epoch 7/10\n",
            "600/600 [==============================] - 166s 277ms/step - loss: 0.5785 - acc: 0.8363 - val_loss: 0.1041 - val_acc: 0.9689\n",
            "Epoch 8/10\n",
            "600/600 [==============================] - 162s 270ms/step - loss: 0.5408 - acc: 0.8509 - val_loss: 0.1153 - val_acc: 0.9664\n",
            "Epoch 9/10\n",
            "600/600 [==============================] - 160s 267ms/step - loss: 0.5097 - acc: 0.8591 - val_loss: 0.1123 - val_acc: 0.9693\n",
            "Epoch 10/10\n",
            "600/600 [==============================] - 164s 274ms/step - loss: 0.4845 - acc: 0.8701 - val_loss: 0.0917 - val_acc: 0.9731\n"
          ],
          "name": "stdout"
        }
      ]
    },
    {
      "cell_type": "markdown",
      "metadata": {
        "id": "mvETujmwqiII"
      },
      "source": [
        "**[3.10.1] Visualizing Some Samples Of Augmented Images**"
      ]
    },
    {
      "cell_type": "code",
      "metadata": {
        "colab": {
          "base_uri": "https://localhost:8080/",
          "height": 470
        },
        "id": "-FVscDAOqhD1",
        "outputId": "3d52ff85-bb16-47ac-cf3c-ec045cb8e3b7"
      },
      "source": [
        "show_samples_of_augmented_images(datagen_11)"
      ],
      "execution_count": null,
      "outputs": [
        {
          "output_type": "stream",
          "text": [
            "Some samples after performing data augmentation\n"
          ],
          "name": "stdout"
        },
        {
          "output_type": "display_data",
          "data": {
            "image/png": "[encoded data removed]",
            "text/plain": [
              "<Figure size 720x432 with 32 Axes>"
            ]
          },
          "metadata": {
            "tags": []
          }
        }
      ]
    },
    {
      "cell_type": "markdown",
      "metadata": {
        "id": "92zSRsN6Mtvk"
      },
      "source": [
        "**[3.10.2] summarizing the results**"
      ]
    },
    {
      "cell_type": "code",
      "metadata": {
        "colab": {
          "base_uri": "https://localhost:8080/",
          "height": 156
        },
        "id": "Z6GE8Z4MMxKE",
        "outputId": "f0d6a166-a7ce-4bf9-8328-70fe689bbb71"
      },
      "source": [
        "pt_aug=PrettyTable()\n",
        "pt_aug.field_names=[\"conv2D layers\",\"kernel\",\"padding\",\"max_pooling/avgpool?\",\"pool_size\",\"dense layers\",\"BN\",\"dropout\",\"data_augmentation\",\n",
        "                    \"train loss\",\"test loss\",\"test accuracy\"]\n",
        "\n",
        "pt_aug.add_row([3,\"(5,5)\",\"valid\",\"No\",\"(2,2)\",3,\"Yes\",0.5,\"No\",np.round(history5_9.history['loss'][9],3),\n",
        "                np.round(modeln_1.evaluate(X_test,y_test,verbose=0)[0],3),np.round(modeln_1.evaluate(X_test,y_test,verbose=0)[1],3)])\n",
        "\n",
        "pt_aug.add_row([3,\"(5,5)\",\"valid\",\"No\",\"(2,2)\",3,\"Yes\",0.5,\"Yes\",np.round(history5_11.history['loss'][9],3),\n",
        "                np.round(model5_11.evaluate(X_test,y_test,verbose=0)[0],3),np.round(model5_11.evaluate(X_test,y_test,verbose=0)[1],3)])\n",
        "print(\"effect of Data Augmentation on cnn performance keeping other parameters same\")\n",
        "print(pt_aug)"
      ],
      "execution_count": null,
      "outputs": [
        {
          "output_type": "stream",
          "text": [
            "effect of Data Augmentation on cnn performance keeping other parameters same\n",
            "+---------------+--------+---------+----------------------+-----------+--------------+-----+---------+-------------------+------------+-----------+---------------+\n",
            "| conv2D layers | kernel | padding | max_pooling/avgpool? | pool_size | dense layers |  BN | dropout | data_augmentation | train loss | test loss | test accuracy |\n",
            "+---------------+--------+---------+----------------------+-----------+--------------+-----+---------+-------------------+------------+-----------+---------------+\n",
            "|       3       | (5,5)  |  valid  |          No          |   (2,2)   |      3       | Yes |   0.5   |         No        |   0.119    |   0.041   |     0.989     |\n",
            "|       3       | (5,5)  |  valid  |          No          |   (2,2)   |      3       | Yes |   0.5   |        Yes        |   0.485    |   0.092   |     0.973     |\n",
            "+---------------+--------+---------+----------------------+-----------+--------------+-----+---------+-------------------+------------+-----------+---------------+\n"
          ],
          "name": "stdout"
        }
      ]
    },
    {
      "cell_type": "markdown",
      "metadata": {
        "id": "jEvh9sRavf9A"
      },
      "source": [
        "\n",
        "\n",
        "---\n",
        "\n"
      ]
    },
    {
      "cell_type": "markdown",
      "metadata": {
        "id": "9x2dlPXZvHkd"
      },
      "source": [
        "## [4] Summarizing CONCLUSIONS Of CNN ON MNIST DATA:"
      ]
    },
    {
      "cell_type": "markdown",
      "metadata": {
        "id": "h4WcuWpgzEFq"
      },
      "source": [
        "**[4.1] Number of feature maps for MNIST data:**\n",
        "\n",
        "\n"
      ]
    },
    {
      "cell_type": "code",
      "metadata": {
        "colab": {
          "base_uri": "https://localhost:8080/",
          "height": 170
        },
        "id": "7WBPtdtrzM5x",
        "outputId": "9d571d7d-64af-422b-9493-b3d1f1a17e14"
      },
      "source": [
        "print(\"Effect of feature maps\")\n",
        "print(pt_fm)"
      ],
      "execution_count": null,
      "outputs": [
        {
          "output_type": "stream",
          "text": [
            "Effect of feature maps\n",
            "+---------------+------------+------------+-----------+---------------+\n",
            "| conv2D layers | nu_filters | train loss | test loss | test accuracy |\n",
            "+---------------+------------+------------+-----------+---------------+\n",
            "|       2       |  8 || 16   |   0.024    |   0.038   |     0.988     |\n",
            "|       2       |   2 ||2    |    0.1     |   0.068   |     0.977     |\n",
            "|       3       | 8||16||32  |    0.01    |   0.031   |     0.991     |\n",
            "|       3       |  4||4||4   |   0.077    |    0.06   |      0.98     |\n",
            "+---------------+------------+------------+-----------+---------------+\n"
          ],
          "name": "stdout"
        }
      ]
    },
    {
      "cell_type": "markdown",
      "metadata": {
        "id": "gR5dfBWqHkVr"
      },
      "source": [
        "\n",
        "*   Generally more the number of feature maps (number of filters);The more our CNN learns about the different combination of features i.e. some of the combinations can be important some can be redundant for classification.So keeping the number of feature maps reasonably more will give our model good performance.\n",
        "\n",
        "\n",
        "\n",
        "---\n",
        "\n"
      ]
    },
    {
      "cell_type": "markdown",
      "metadata": {
        "id": "vWwAQ469LzQn"
      },
      "source": [
        "**[4.2] kernel size for the MNIST data**"
      ]
    },
    {
      "cell_type": "code",
      "metadata": {
        "colab": {
          "base_uri": "https://localhost:8080/",
          "height": 153
        },
        "id": "hAc8gcG_HoGx",
        "outputId": "364b3d30-1c1f-4811-e9cf-1415c6811a8a"
      },
      "source": [
        "print(\"Effect Of kernel Size On MNIST data\")\n",
        "print(pt_ks)"
      ],
      "execution_count": null,
      "outputs": [
        {
          "output_type": "stream",
          "text": [
            "Effect Of kernel Size On MNIST data\n",
            "+-------------+-------------------+---------+------------+-----------+---------------+\n",
            "| conv_layers | kernels size used | padding | train loss | test loss | test accuracy |\n",
            "+-------------+-------------------+---------+------------+-----------+---------------+\n",
            "|      3      |       (3, 3)      |  valid  |   0.009    |   0.041   |     0.989     |\n",
            "|      3      |       (5, 5)      |  valid  |   0.013    |   0.028   |     0.992     |\n",
            "|      3      |       (7, 7)      |  valid  |   0.021    |   0.029   |     0.991     |\n",
            "+-------------+-------------------+---------+------------+-----------+---------------+\n"
          ],
          "name": "stdout"
        }
      ]
    },
    {
      "cell_type": "markdown",
      "metadata": {
        "id": "53ujB4eeycHg"
      },
      "source": [
        "\n",
        "\n",
        "\n",
        "*   As kernel sizes are nothing but feature extractors;The less kernel size we have we are extracting a lot of features which may lead to overfitting, and kernel size being too large can miss some important features which may lead to underfit.\n",
        "*   So a medium kernel (5,5) has worked good for the given MNIST dataset.\n",
        "\n",
        "\n",
        "---\n",
        "\n",
        "\n",
        "\n"
      ]
    },
    {
      "cell_type": "markdown",
      "metadata": {
        "id": "SSo1yT2KLv23"
      },
      "source": [
        "**[4.3] Affect Of Padding On MNIST**"
      ]
    },
    {
      "cell_type": "code",
      "metadata": {
        "colab": {
          "base_uri": "https://localhost:8080/",
          "height": 136
        },
        "id": "1sNDT9QAydwH",
        "outputId": "0135d722-e15a-4ac6-a4cc-4ee903f205c7"
      },
      "source": [
        "print(\"Effect Of padding On Mnist Dataset\")\n",
        "print(pt_pd)"
      ],
      "execution_count": null,
      "outputs": [
        {
          "output_type": "stream",
          "text": [
            "Effect Of padding On Mnist Dataset\n",
            "+-------------+-------------+---------+------------+-----------+---------------+\n",
            "| conv_layers | kernel size | padding | train loss | test loss | test accuracy |\n",
            "+-------------+-------------+---------+------------+-----------+---------------+\n",
            "|      3      |    (5, 5)   |  valid  |   0.011    |   0.032   |      0.99     |\n",
            "|      3      |    (5, 5)   |   same  |    0.01    |   0.031   |     0.991     |\n",
            "+-------------+-------------+---------+------------+-----------+---------------+\n"
          ],
          "name": "stdout"
        }
      ]
    },
    {
      "cell_type": "markdown",
      "metadata": {
        "id": "o0BBagSyv8rC"
      },
      "source": [
        "\n",
        "\n",
        "\n",
        "\n",
        "*   Padding='same' is basically adding redundant features/pixels to the original matrix after it is convoluted with an appropraite filter size (i.e. (5,5) for mnist.) ;so as to prserve the diemnsionality of the original matrix.So it will automatically reduce the performance of the Cnn model.\n",
        "*   Padding='valid' will not add redundant pixels after convolution it only keeps the feature that are extracted by kernel.\n",
        "*   Padding='same' is only used when we have input dimensions of image very few and we have Deep CNN.\n",
        "\n",
        "\n",
        "\n",
        "---\n",
        "\n",
        "\n",
        "\n"
      ]
    },
    {
      "cell_type": "markdown",
      "metadata": {
        "id": "GpHckYWOAUNc"
      },
      "source": [
        "**[4.4] Maxpooling and poolsize On MNIST dataset**\n",
        "\n"
      ]
    },
    {
      "cell_type": "code",
      "metadata": {
        "colab": {
          "base_uri": "https://localhost:8080/",
          "height": 187
        },
        "id": "ewgnnDqSLJ46",
        "outputId": "7975ed7e-fd9e-4989-d313-7c37792abe11"
      },
      "source": [
        "print(\"Maxpooling effect On MNIST dataset\")\n",
        "print(pt_mp)"
      ],
      "execution_count": null,
      "outputs": [
        {
          "output_type": "stream",
          "text": [
            "Maxpooling effect On MNIST dataset\n",
            "+---------------+--------+---------+-------------+------------+-----------+---------------+\n",
            "| conv2D layers | kernel | padding | max_pooling | train loss | test loss | test accuracy |\n",
            "+---------------+--------+---------+-------------+------------+-----------+---------------+\n",
            "|       3       | (5,5)  |  valid  |   0--0--0   |   0.011    |   0.032   |      0.99     |\n",
            "|       3       | (5,5)  |  valid  |   1--1--1   |   0.019    |   0.022   |     0.992     |\n",
            "|       5       | (5,5)  |  valid  |  0-0-0-0-0  |    0.02    |   0.029   |     0.992     |\n",
            "|       5       | (5,5)  |  valid  |  1-1-1-0-0  |   0.026    |   0.038   |     0.989     |\n",
            "|       5       | (5,5)  |  valid  |  1-1-1-1-1  |   0.029    |   0.044   |     0.986     |\n",
            "+---------------+--------+---------+-------------+------------+-----------+---------------+\n"
          ],
          "name": "stdout"
        }
      ]
    },
    {
      "cell_type": "markdown",
      "metadata": {
        "id": "8GJS-kquLp36"
      },
      "source": [
        "* reference https://stats.stackexchange.com/a/374824\n",
        "* Maxpooling is not working that good on MNIST .That can be due to the simplicity of MNIST datset where we have only 1 object in given image.\n",
        "*Maxpooling is used to extract low level sharpest feature from an image,and for doing calculation fast.Low level features may be important for an image that has many objects/shapes in it.But our MNIST dataset is the simplest one.\n",
        "*pool size of (2,2) is working well for MNIST dataset.\n",
        "\n",
        "\n",
        "---\n",
        "\n"
      ]
    },
    {
      "cell_type": "markdown",
      "metadata": {
        "id": "IOsXAK7zUshQ"
      },
      "source": [
        "**[4.5] Average Pooling On MNIST datset**"
      ]
    },
    {
      "cell_type": "code",
      "metadata": {
        "colab": {
          "base_uri": "https://localhost:8080/",
          "height": 170
        },
        "id": "sTyHq4gaUxjz",
        "outputId": "e4be92f1-da1e-461d-8e9f-754147419ed1"
      },
      "source": [
        "print(\"average pooling on MNIST dataset\")\n",
        "print(pt_ap)"
      ],
      "execution_count": null,
      "outputs": [
        {
          "output_type": "stream",
          "text": [
            "average pooling on MNIST dataset\n",
            "+---------------+--------+---------+--------------+------------+-----------+---------------+\n",
            "| conv2D layers | kernel | padding | avg_pooling? | train loss | test loss | test accuracy |\n",
            "+---------------+--------+---------+--------------+------------+-----------+---------------+\n",
            "|       3       | (5,5)  |  valid  |      No      |   0.011    |   0.032   |      0.99     |\n",
            "|       3       | (5,5)  |  valid  |     Yes      |    0.02    |   0.023   |     0.993     |\n",
            "|       5       | (5,5)  |  valid  |      No      |    0.02    |   0.029   |     0.992     |\n",
            "|       5       | (5,5)  |  valid  |     Yes      |    0.03    |   0.035   |      0.99     |\n",
            "+---------------+--------+---------+--------------+------------+-----------+---------------+\n"
          ],
          "name": "stdout"
        }
      ]
    },
    {
      "cell_type": "markdown",
      "metadata": {
        "id": "hrYEjIC2n82P"
      },
      "source": [
        "\n",
        "\n",
        "*   Average pooling working better than max pooling for MNIST dataset.\n",
        "*   If we observe overall neither maxpooling nor average pooling on MNIST dataset are producing good results.pooling operations are problem specific.\n",
        "\n",
        "\n",
        "\n",
        "---\n",
        "\n"
      ]
    },
    {
      "cell_type": "markdown",
      "metadata": {
        "id": "I6ZyMFqJRI7L"
      },
      "source": [
        "**[4.6] Adding more number of dense layers to MNIST dataset**"
      ]
    },
    {
      "cell_type": "code",
      "metadata": {
        "colab": {
          "base_uri": "https://localhost:8080/",
          "height": 170
        },
        "id": "i8stzEkWSFj0",
        "outputId": "bfc96ffd-5fbf-4353-a576-44ac558842d9"
      },
      "source": [
        "print(\"comapring different number of Dense layers\")\n",
        "print(pt_dl)"
      ],
      "execution_count": null,
      "outputs": [
        {
          "output_type": "stream",
          "text": [
            "comapring different number of Dense layers\n",
            "+---------------+--------+---------+------------------+----------+------------------+------------+-----------+---------------+\n",
            "| conv2D layers | kernel | padding | maxpool/avgpool? | poolsize | num_dense_layers | train_loss | test loss | test accuracy |\n",
            "+---------------+--------+---------+------------------+----------+------------------+------------+-----------+---------------+\n",
            "|       3       | (5,5)  |  valid  |        No        |  (2,2)   |        1         |   0.019    |   0.022   |     0.992     |\n",
            "|       3       | (5,5)  |  valid  |        No        |  (2,2)   |        2         |   0.105    |   0.038   |      0.99     |\n",
            "|       3       | (5,5)  |  valid  |        No        |  (2,2)   |        3         |   0.096    |   0.042   |      0.99     |\n",
            "|       3       | (5,5)  |  valid  |        No        |  (2,2)   |        4         |   0.095    |    0.03   |     0.992     |\n",
            "+---------------+--------+---------+------------------+----------+------------------+------------+-----------+---------------+\n"
          ],
          "name": "stdout"
        }
      ]
    },
    {
      "cell_type": "markdown",
      "metadata": {
        "id": "PKOU8rUOHUcC"
      },
      "source": [
        "\n",
        "\n",
        "---\n",
        "\n"
      ]
    },
    {
      "cell_type": "markdown",
      "metadata": {
        "id": "Bh24cxvWRR3J"
      },
      "source": [
        "**[4.7] Batch normalization and dropout for MNIST data**"
      ]
    },
    {
      "cell_type": "code",
      "metadata": {
        "colab": {
          "base_uri": "https://localhost:8080/",
          "height": 258
        },
        "id": "PrxDlSL_Rf4n",
        "outputId": "fa562102-e4dd-4bf4-c9b6-4611fee16542"
      },
      "source": [
        "print(\"batch normalization affect\")\n",
        "print(pt_bn)\n",
        "print(\"\\n\")\n",
        "\n",
        "print(\"train loss {} test loss {} without batch normalization \".format(np.round(history5_41.history['loss'][9],3),np.round(history5_41.history['val_loss'][9],3)))\n",
        "\n",
        "print(\"train loss {} test loss {} with batch normalization \".format(np.round(historyn_1.history['loss'][9],3),np.round(historyn_1.history['val_loss'][9],3)))\n"
      ],
      "execution_count": null,
      "outputs": [
        {
          "output_type": "stream",
          "text": [
            "batch normalization affect\n",
            "+---------------+--------+---------+------------------+----------+--------------+-----------------------------------+------------+-----------+---------------+\n",
            "| conv2D layers | kernel | padding | maxpool/avgpool? | poolsize | dense layers | batch_normalization_on_convlayers | train loss | test loss | test accuracy |\n",
            "+---------------+--------+---------+------------------+----------+--------------+-----------------------------------+------------+-----------+---------------+\n",
            "|       3       | (5,5)  |  valid  |        No        |  (2,2)   |      3       |                 No                |   0.105    |   0.036   |     0.993     |\n",
            "|       3       | (5,5)  |  valid  |        No        |  (2,2)   |      3       |                Yes                |   0.077    |   0.041   |     0.989     |\n",
            "|       5       | (5,5)  |  valid  |        No        |  (2,2)   |      3       |                 No                |   0.097    |   0.039   |     0.992     |\n",
            "|       5       | (5,5)  |  valid  |        No        |  (2,2)   |      3       |                Yes                |   0.085    |   0.053   |     0.988     |\n",
            "+---------------+--------+---------+------------------+----------+--------------+-----------------------------------+------------+-----------+---------------+\n",
            "\n",
            "\n",
            "train loss 0.081 test loss 0.036 without batch normalization \n",
            "train loss 0.077 test loss 0.041 with batch normalization \n"
          ],
          "name": "stdout"
        }
      ]
    },
    {
      "cell_type": "code",
      "metadata": {
        "colab": {
          "base_uri": "https://localhost:8080/",
          "height": 964
        },
        "id": "E9IkVy4ZLLf-",
        "outputId": "40a59099-9528-4c2f-bb5e-7400d1ed005c"
      },
      "source": [
        "print(\"Without Batch Normalization\")\n",
        "plot_graph(history5_6,model5_6)\n",
        "\n",
        "print(\"-\"*100)\n",
        "\n",
        "print(\"With batch normalization\")\n",
        "plot_graph(history5_7,model5_7)"
      ],
      "execution_count": null,
      "outputs": [
        {
          "output_type": "stream",
          "text": [
            "Without Batch Normalization\n",
            "test log-loss  0.039378063859247775\n",
            "test accuracy  0.9924\n"
          ],
          "name": "stdout"
        },
        {
          "output_type": "display_data",
          "data": {
            "image/png": "[encoded data removed]",
            "text/plain": [
              "<Figure size 1152x432 with 2 Axes>"
            ]
          },
          "metadata": {
            "tags": []
          }
        },
        {
          "output_type": "stream",
          "text": [
            "----------------------------------------------------------------------------------------------------\n",
            "With batch normalization\n",
            "test log-loss  0.0528347386132984\n",
            "test accuracy  0.9876\n"
          ],
          "name": "stdout"
        },
        {
          "output_type": "display_data",
          "data": {
            "image/png": "[encoded data removed]",
            "text/plain": [
              "<Figure size 1152x432 with 2 Axes>"
            ]
          },
          "metadata": {
            "tags": []
          }
        }
      ]
    },
    {
      "cell_type": "markdown",
      "metadata": {
        "id": "nAPsEeIq3gxB"
      },
      "source": [
        "\n",
        "\n",
        "*   based On above observations we can say using batch normalization has reduced the difference between train and test loss and also the curve converges a little faster for batch normalization.\n",
        "\n",
        "\n"
      ]
    },
    {
      "cell_type": "code",
      "metadata": {
        "colab": {
          "base_uri": "https://localhost:8080/",
          "height": 289
        },
        "id": "v48xUDxARvDG",
        "outputId": "f3aea3e3-e7c8-4954-f09c-65644de1f215"
      },
      "source": [
        "print(\"dropout effect\")\n",
        "print(pt_dr)\n",
        "\n",
        "print(\"\\nwithout using dropout on the convolution layers :\")\n",
        "print(\"train loss \",np.round(historyn_1.history['loss'][9],2))\n",
        "print(\"test loss \",np.round(historyn_1.history['val_loss'][9],2))\n",
        "\n",
        "print(\"using dropout on convolution layers \")\n",
        "print(\"train loss \",np.round(history5_9.history['loss'][9],2))\n",
        "print(\"test loss \",np.round(history5_9.history['val_loss'][9],2))\n",
        "      \n",
        "  "
      ],
      "execution_count": null,
      "outputs": [
        {
          "output_type": "stream",
          "text": [
            "dropout effect\n",
            "+---------------+--------+---------+------------------+-----------+------------------+-----+--------------------+------------+-----------+---------------+\n",
            "| conv2D layers | kernel | padding | maxpool/avgpool? | pool_size | num_dense_layers |  BN | Drp_out_conv_layer | train loss | test loss | test accuracy |\n",
            "+---------------+--------+---------+------------------+-----------+------------------+-----+--------------------+------------+-----------+---------------+\n",
            "|       3       | (5,5)  |  valid  |        No        |   (2,2)   |        3         | Yes |         No         |   0.077    |   0.041   |     0.989     |\n",
            "|       3       | (5,5)  |  valid  |        No        |   (2,2)   |        2         | Yes |        0.1         |    0.07    |   0.033   |     0.992     |\n",
            "|       3       | (5,5)  |  valid  |        No        |   (2,2)   |        2         | Yes |        0.5         |   0.119    |    0.03   |     0.991     |\n",
            "|       3       | (5,5)  |  valid  |        No        |   (2,2)   |        2         | Yes |        0.8         |   0.286    |   0.065   |      0.98     |\n",
            "+---------------+--------+---------+------------------+-----------+------------------+-----+--------------------+------------+-----------+---------------+\n",
            "\n",
            "without using dropout on the convolution layers :\n",
            "train loss  0.08\n",
            "test loss  0.04\n",
            "using dropout on convolution layers \n",
            "train loss  0.12\n",
            "test loss  0.03\n"
          ],
          "name": "stdout"
        }
      ]
    },
    {
      "cell_type": "markdown",
      "metadata": {
        "id": "Q2Ct-CoaGuqn"
      },
      "source": [
        "* Batch normalization worked for MNIST data to improve performance.\n",
        "\n",
        "*   As far as mnist dataset is concerned having dropout or not in both cases the model is performing similar.Large dropouts are always avoided as they always produces more loss.\n",
        "\n",
        "\n",
        "---\n",
        "\n",
        "\n",
        "\n"
      ]
    },
    {
      "cell_type": "markdown",
      "metadata": {
        "id": "VX7g-_JURX_z"
      },
      "source": [
        "**[4.8] Data Augmentation For MNIST dataset**"
      ]
    },
    {
      "cell_type": "code",
      "metadata": {
        "colab": {
          "base_uri": "https://localhost:8080/",
          "height": 139
        },
        "id": "sSPS3kPrQO-x",
        "outputId": "12267140-2541-4aa6-8927-634a064b1692"
      },
      "source": [
        "print(pt_aug)"
      ],
      "execution_count": null,
      "outputs": [
        {
          "output_type": "stream",
          "text": [
            "+---------------+--------+---------+----------------------+-----------+--------------+-----+---------+-------------------+------------+-----------+---------------+\n",
            "| conv2D layers | kernel | padding | max_pooling/avgpool? | pool_size | dense layers |  BN | dropout | data_augmentation | train loss | test loss | test accuracy |\n",
            "+---------------+--------+---------+----------------------+-----------+--------------+-----+---------+-------------------+------------+-----------+---------------+\n",
            "|       3       | (5,5)  |  valid  |          No          |   (2,2)   |      3       | Yes |   0.5   |         No        |   0.119    |   0.041   |     0.989     |\n",
            "|       3       | (5,5)  |  valid  |          No          |   (2,2)   |      3       | Yes |   0.5   |        Yes        |   0.485    |   0.092   |     0.973     |\n",
            "+---------------+--------+---------+----------------------+-----------+--------------+-----+---------+-------------------+------------+-----------+---------------+\n"
          ],
          "name": "stdout"
        }
      ]
    },
    {
      "cell_type": "markdown",
      "metadata": {
        "id": "gi93zTmEihIi"
      },
      "source": [
        "\n",
        "\n",
        "*   Doing data augmentation has not produced good results for MNIST dataset.\n",
        "\n"
      ]
    }
  ]
}